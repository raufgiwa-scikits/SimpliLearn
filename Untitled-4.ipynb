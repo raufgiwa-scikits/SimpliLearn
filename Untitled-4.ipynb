{
 "cells": [
  {
   "cell_type": "code",
   "execution_count": null,
   "metadata": {},
   "outputs": [],
   "source": [
    "import numpy as np\n",
    "import tensorflow as tf\n",
    "from tensorflow.keras.layers import Input, Dense, LSTM, Embedding, Flatten, Add, Concatenate\n",
    "from sklearn.model_selection import train_test_split\n",
    "from sklearn.preprocessing import StandardScaler, OneHotEncoder,MinMaxScaler()\n",
    "import matplotlib.pyplot as plt\n",
    "\n",
    "# Generate synthetic data\n",
    "def generate_data(num_samples, time_steps, num_time_features, num_non_time_features, num_categories):\n",
    "    time_series_data = np.random.rand(num_samples, time_steps, num_time_features)  # Time-series data\n",
    "    non_time_series_data = np.random.rand(num_samples, num_non_time_features)      # Non-time-series data\n",
    "    categorical_data = np.random.randint(0, num_categories, size=(num_samples, 1))  # Categorical data\n",
    "    targets = np.random.randint(0, 2, size=(num_samples, 1))                       # Binary targets\n",
    "    return time_series_data, non_time_series_data, categorical_data, targets\n",
    "\n",
    "# Parameters\n",
    "num_samples = 1000\n",
    "time_steps = 10\n",
    "num_time_features = 3\n",
    "num_non_time_features = 5\n",
    "num_categories = 4  # Number of unique categories for the categorical feature\n",
    "\n",
    "# Generate data\n",
    "time_series_data, non_time_series_data, categorical_data, targets = generate_data(\n",
    "    num_samples, time_steps, num_time_features, num_non_time_features, num_categories\n",
    ")\n",
    "\n",
    "# Split data into train and test sets\n",
    "X_time_train, X_time_test, X_non_time_train, X_non_time_test, X_cat_train, X_cat_test, y_train, y_test = train_test_split(\n",
    "    time_series_data, non_time_series_data, categorical_data, targets, test_size=0.2, random_state=42\n",
    ")\n",
    "\n",
    "# Standardize non-time-series data\n",
    "scaler = StandardScaler()\n",
    "X_non_time_train = scaler.fit_transform(X_non_time_train)\n",
    "X_non_time_test = scaler.transform(X_non_time_test)\n",
    "\n",
    "# One-hot encode categorical data\n",
    "encoder = OneHotEncoder()\n",
    "X_cat_train = encoder.fit_transform(X_cat_train)\n",
    "X_cat_test = encoder.transform(X_cat_test)\n"
   ]
  },
  {
   "cell_type": "code",
   "execution_count": 12,
   "metadata": {},
   "outputs": [
    {
     "name": "stdout",
     "output_type": "stream",
     "text": [
      "Requirement already satisfied: numpy in c:\\users\\giwa\\.conda\\envs\\env\\lib\\site-packages (1.26.4)\n",
      "Note: you may need to restart the kernel to use updated packages.\n"
     ]
    }
   ],
   "source": [
    "%pip install numpy"
   ]
  },
  {
   "cell_type": "code",
   "execution_count": 2,
   "metadata": {},
   "outputs": [
    {
     "name": "stdout",
     "output_type": "stream",
     "text": [
      "10000\n"
     ]
    },
    {
     "data": {
      "text/plain": [
       "array([[[0.10323641],\n",
       "        [0.3941452 ],\n",
       "        [0.96084058],\n",
       "        [0.35478944],\n",
       "        [0.15661515]],\n",
       "\n",
       "       [[0.9110511 ],\n",
       "        [0.00924165],\n",
       "        [0.19146965],\n",
       "        [0.87023115],\n",
       "        [0.64741359]],\n",
       "\n",
       "       [[0.885226  ],\n",
       "        [0.12506595],\n",
       "        [0.73177813],\n",
       "        [0.74201436],\n",
       "        [0.32094505]],\n",
       "\n",
       "       ...,\n",
       "\n",
       "       [[0.70494844],\n",
       "        [0.77073865],\n",
       "        [0.30908583],\n",
       "        [0.91929763],\n",
       "        [0.28426716]],\n",
       "\n",
       "       [[0.47137842],\n",
       "        [0.96757621],\n",
       "        [0.11016196],\n",
       "        [0.77369344],\n",
       "        [0.94371523]],\n",
       "\n",
       "       [[0.71762359],\n",
       "        [0.70188517],\n",
       "        [0.96998992],\n",
       "        [0.59615366],\n",
       "        [0.83654623]]])"
      ]
     },
     "metadata": {},
     "output_type": "display_data"
    }
   ],
   "source": [
    "%run DataGenerator\n",
    "\n",
    "x=TimeGenerator()\n",
    "display(x)"
   ]
  },
  {
   "cell_type": "code",
   "execution_count": 7,
   "metadata": {},
   "outputs": [
    {
     "ename": "TypeError",
     "evalue": "CatGenerator() takes from 0 to 4 positional arguments but 5 were given",
     "output_type": "error",
     "traceback": [
      "\u001b[1;31m---------------------------------------------------------------------------\u001b[0m",
      "\u001b[1;31mTypeError\u001b[0m                                 Traceback (most recent call last)",
      "Cell \u001b[1;32mIn[7], line 11\u001b[0m\n\u001b[0;32m      8\u001b[0m p1\u001b[38;5;241m=\u001b[39m\u001b[38;5;241m1\u001b[39m\n\u001b[0;32m      9\u001b[0m categories\u001b[38;5;241m=\u001b[39m\u001b[38;5;241m5\u001b[39m\n\u001b[1;32m---> 11\u001b[0m x\u001b[38;5;241m=\u001b[39m CatGenerator(num_samples, distribution, seed, p0,p1)\n\u001b[0;32m     12\u001b[0m x\u001b[38;5;241m=\u001b[39m(MinMaxScaler()\u001b[38;5;241m.\u001b[39mfit_transform(x)\u001b[38;5;241m*\u001b[39mcategories)\u001b[38;5;241m.\u001b[39mastype(\u001b[38;5;28mint\u001b[39m)\n\u001b[0;32m     13\u001b[0m x\n",
      "\u001b[1;31mTypeError\u001b[0m: CatGenerator() takes from 0 to 4 positional arguments but 5 were given"
     ]
    }
   ],
   "source": [
    "%run DataGenerator\n",
    "\n",
    "\n",
    "num_samples=100\n",
    "distribution=\"uniform\"\n",
    "seed=None\n",
    "p0=0\n",
    "p1=1\n",
    "categories=5\n",
    "\n",
    "x= CatGenerator(num_samples, distribution, seed, p0,p1)\n",
    "x=(MinMaxScaler().fit_transform(x)*categories).astype(int)\n",
    "x"
   ]
  },
  {
   "cell_type": "code",
   "execution_count": 2,
   "metadata": {},
   "outputs": [],
   "source": [
    "import numpy as np\n",
    "import tensorflow as tf\n",
    "import tensorflow.keras.layers as tfk_layers\n",
    "import tensorflow.keras as tfk\n",
    "import tensorflow_lattice as tfl\n",
    "from sklearn.model_selection import train_test_split\n",
    "from sklearn.preprocessing import StandardScaler, OneHotEncoder,MinMaxScaler\n",
    "import matplotlib.pyplot as plt\n",
    "\n",
    "import numpy as np\n",
    "import pandas as pd\n",
    "from sklearn.compose import ColumnTransformer\n",
    "from sklearn.impute import SimpleImputer\n",
    "import tensorflow as tf\n",
    "import tensorflow as tf\n",
    "# import shap\n"
   ]
  },
  {
   "cell_type": "code",
   "execution_count": 1,
   "metadata": {},
   "outputs": [
    {
     "name": "stdout",
     "output_type": "stream",
     "text": [
      "WARNING:tensorflow:From c:\\Users\\Giwa\\.conda\\envs\\env\\Lib\\site-packages\\tf_keras\\src\\losses.py:2976: The name tf.losses.sparse_softmax_cross_entropy is deprecated. Please use tf.compat.v1.losses.sparse_softmax_cross_entropy instead.\n",
      "\n"
     ]
    }
   ],
   "source": [
    "\n",
    "%run NetworksV2\n",
    "\n",
    "\n",
    "num_samples=10000"
   ]
  },
  {
   "cell_type": "code",
   "execution_count": 16,
   "metadata": {},
   "outputs": [
    {
     "name": "stdout",
     "output_type": "stream",
     "text": [
      "tf.Tensor(\n",
      "[[0.00311645]\n",
      " [0.00415526]\n",
      " [0.00519408]\n",
      " ...\n",
      " [0.00831053]\n",
      " [0.00207763]\n",
      " [0.00831053]], shape=(10000, 1), dtype=float32)\n"
     ]
    }
   ],
   "source": [
    "\n",
    "%run NetworksV2\n",
    "\n",
    "arch_layers=[{\"Net\":\"tfl-pwl\",\"Val\":128, \"Monotonicity\": +1,},\n",
    "             {\"Net\":\"Drop out\",\"Val\":0.3}, \n",
    "             {\"Net\":\"Dense\",\"Val\":128},\n",
    "             {\"Net\":\"Drop out\",\"Val\":0.3},]\n",
    "d=np.random.uniform(0, 1, [num_samples,1])\n",
    "d=(d*10).astype(int)\n",
    "input_dim=d.shape[1:]\n",
    "inputs = tfk_layers.Input(shape=input_dim) \n",
    "\n",
    "Feature_name=\"Feature_Name\"\n",
    "category_num=False\n",
    "# arch_layers= None\n",
    "Time_Series=False\n",
    "\n",
    "\n",
    "SEN=SingleEffect_NetV3(input_dim=input_dim, Feature_name=Feature_name, category_num=category_num, arch_layers= arch_layers,Time_Series=Time_Series,)\n",
    "\n",
    "y=SEN.call(tf.cast(d,tf.float32))\n",
    "print(y)\n",
    "# output_function=tfk.Model(inputs, make_call_network(inputs, Hidden_Layers))\n",
    "# print(output_function(d)-y)\n"
   ]
  },
  {
   "cell_type": "code",
   "execution_count": 25,
   "metadata": {},
   "outputs": [
    {
     "name": "stdout",
     "output_type": "stream",
     "text": [
      "tf.Tensor(\n",
      "[[0.]\n",
      " [0.]\n",
      " [0.]\n",
      " ...\n",
      " [0.]\n",
      " [0.]\n",
      " [0.]], shape=(10000, 1), dtype=float32)\n"
     ]
    }
   ],
   "source": [
    "%run NetworksV2\n",
    "\n",
    "arch_layers=[{\"Net\":\"CategNet\",\"Val\":128, \"Monotonicity\": +1,},\n",
    "             {\"Net\":\"Drop out\",\"Val\":0.3}, \n",
    "             {\"Net\":\"Dense\",\"Val\":128},\n",
    "             {\"Net\":\"Drop out\",\"Val\":0.3},]\n",
    "d=np.random.uniform(0, 1, [num_samples,5])\n",
    "d=(d*10).astype(int)\n",
    "input_dim=d.shape[1:]\n",
    "inputs = tfk_layers.Input(shape=input_dim) \n",
    "\n",
    "Feature_name=\"Feature_Name\"\n",
    "category_num=5\n",
    "# arch_layers= None\n",
    "Time_Series=False\n",
    "\n",
    "\n",
    "SEN=SingleEffect_NetV3(input_dim=input_dim, Feature_name=Feature_name, category_num=category_num, arch_layers= arch_layers,Time_Series=Time_Series,)\n",
    "\n",
    "y=SEN.call(tf.cast(d,tf.float32))\n",
    "print(y)\n",
    "# output_function=tfk.Model(inputs, make_call_network(inputs, Hidden_Layers))\n",
    "# print(output_function(d)-y)\n"
   ]
  },
  {
   "cell_type": "code",
   "execution_count": 57,
   "metadata": {},
   "outputs": [
    {
     "data": {
      "text/plain": [
       "{'X1': array([[2, 9, 6, 5, 6],\n",
       "        [9, 8, 2, 6, 3],\n",
       "        [5, 3, 4, 3, 3],\n",
       "        ...,\n",
       "        [2, 7, 7, 6, 4],\n",
       "        [5, 7, 5, 8, 0],\n",
       "        [1, 1, 2, 9, 4]]),\n",
       " 'X2': array([[0],\n",
       "        [2],\n",
       "        [8],\n",
       "        ...,\n",
       "        [7],\n",
       "        [6],\n",
       "        [5]]),\n",
       " 'X3': array([[[8],\n",
       "         [1],\n",
       "         [9],\n",
       "         ...,\n",
       "         [8],\n",
       "         [2],\n",
       "         [8]],\n",
       " \n",
       "        [[5],\n",
       "         [0],\n",
       "         [1],\n",
       "         ...,\n",
       "         [9],\n",
       "         [1],\n",
       "         [5]],\n",
       " \n",
       "        [[3],\n",
       "         [5],\n",
       "         [0],\n",
       "         ...,\n",
       "         [7],\n",
       "         [0],\n",
       "         [0]],\n",
       " \n",
       "        ...,\n",
       " \n",
       "        [[4],\n",
       "         [1],\n",
       "         [5],\n",
       "         ...,\n",
       "         [7],\n",
       "         [9],\n",
       "         [4]],\n",
       " \n",
       "        [[7],\n",
       "         [5],\n",
       "         [0],\n",
       "         ...,\n",
       "         [7],\n",
       "         [7],\n",
       "         [5]],\n",
       " \n",
       "        [[8],\n",
       "         [9],\n",
       "         [8],\n",
       "         ...,\n",
       "         [1],\n",
       "         [2],\n",
       "         [2]]])}"
      ]
     },
     "execution_count": 57,
     "metadata": {},
     "output_type": "execute_result"
    }
   ],
   "source": [
    "data\n"
   ]
  },
  {
   "cell_type": "code",
   "execution_count": 235,
   "metadata": {},
   "outputs": [
    {
     "name": "stdout",
     "output_type": "stream",
     "text": [
      "(8,)\n",
      "(1,)\n",
      "(8,)\n"
     ]
    },
    {
     "data": {
      "text/plain": [
       "<tf.Tensor: shape=(10000, 1), dtype=float32, numpy=\n",
       "array([[-2.1345224 ],\n",
       "       [ 1.2164998 ],\n",
       "       [-1.5142298 ],\n",
       "       ...,\n",
       "       [ 1.0988858 ],\n",
       "       [-0.8793281 ],\n",
       "       [-0.16938964]], dtype=float32)>"
      ]
     },
     "execution_count": 235,
     "metadata": {},
     "output_type": "execute_result"
    }
   ],
   "source": [
    "%run NetworksV2\n",
    "\n",
    "exec(open(\"NetworksV2.py\").read())\n",
    "\n",
    "arch_layers_numer=[{\"Net\":\"Dense\",\"Val\":128, \"Monotonicity\": +1, \"Norm\":1},\n",
    "             {\"Net\":\"Drop out\",\"Val\":0.3}, \n",
    "             {\"Net\":\"Dense\",\"Val\":128, \"Convexity\": +1,\"Norm\":1},\n",
    "             {\"Net\":\"Drop out\",\"Val\":0.3},]\n",
    "\n",
    "\n",
    "arch_layers_time=[{\"Net\":\"LSTM\",\"Val\":128},\n",
    "             {\"Net\":\"Drop out\",\"Val\":0.3}, \n",
    "             {\"Net\":\"Dense\",\"Val\":128, \"Convexity\": +1,\"Norm\":1},\n",
    "             {\"Net\":\"Drop out\",\"Val\":0.3},]\n",
    "\n",
    "\n",
    "arch_layers_categtime=[{\"Net\":\"CategNet\",\"Val\":128,},\n",
    "             {\"Net\":\"Drop out\",\"Val\":0.3}, \n",
    "             {\"Net\":\"Dense\",\"Val\":128, \"Convexity\": +1,\"Norm\":1},\n",
    "             {\"Net\":\"Drop out\",\"Val\":0.3},]\n",
    "\n",
    "meta_data={}\n",
    "data={}\n",
    "\n",
    "i=0\n",
    "\n",
    "i=i+1;var=f\"X{i}\"\n",
    "category_num=8\n",
    "Time_Series=False\n",
    "input_dim=(category_num,)\n",
    "meta_data[var]={\"input_dim\":input_dim,\"arch_layers\":arch_layers_numer,\"Feature_name\":var, \"Time_Series\":Time_Series }\n",
    "d=np.random.uniform(0, 1, [num_samples,category_num]); d=(d*10).astype(int);\n",
    "input_dim=d.shape[1:]\n",
    "data[var]=d\n",
    "\n",
    "i=i+1;var=f\"X{i}\"\n",
    "category_num=1\n",
    "Time_Series=False\n",
    "input_dim=(category_num,)\n",
    "meta_data[var]={\"input_dim\":input_dim,\"arch_layers\":arch_layers_categtime,\"Feature_name\":var,  \"Time_Series\":Time_Series }\n",
    "d=np.random.uniform(0, 1, [num_samples,category_num]); d=(d*10).astype(int);\n",
    "input_dim=d.shape[1:]\n",
    "data[var]=d\n",
    "\n",
    "i=i+1;var=f\"X{i}\"\n",
    "category_num=8\n",
    "Time_Series=True\n",
    "input_dim=(category_num,)\n",
    "meta_data[var]={\"input_dim\":input_dim,\"arch_layers\":arch_layers_time,\"Feature_name\":var,  \"Time_Series\":Time_Series }\n",
    "d=np.random.uniform(0, 1, [num_samples,category_num,1]); d=(d*10).astype(int);\n",
    "input_dim=d.shape[1:]\n",
    "data[var]=d\n",
    "\n",
    "\n",
    "\n",
    "\n",
    "\n",
    "\n",
    "mb=MainEffectBlock(meta_data) \n",
    "\n",
    "mb.call(data)\n"
   ]
  },
  {
   "cell_type": "code",
   "execution_count": 234,
   "metadata": {},
   "outputs": [
    {
     "data": {
      "text/plain": [
       "<tf.Tensor: shape=(10000, 1), dtype=float32, numpy=\n",
       "array([[-1.4622867],\n",
       "       [-1.6667964],\n",
       "       [-1.3565453],\n",
       "       ...,\n",
       "       [-1.2480693],\n",
       "       [-1.7861861],\n",
       "       [-1.5950944]], dtype=float32)>"
      ]
     },
     "execution_count": 234,
     "metadata": {},
     "output_type": "execute_result"
    }
   ],
   "source": [
    "%run NetworksV2\n",
    "exec(open(\"NetworksV2.py\").read())\n",
    "meta_data_pair={}\n",
    "\n",
    "varA=\"X1\"; varB=\"X2\"\n",
    "Feature_name0=varA\n",
    "Feature_name1=varB\n",
    "arch_layers2=[{\"Net\":\"Dense\",\"Val\":128, \"Monotonicity\": +1, \"Norm\":1},\n",
    "             {\"Net\":\"Drop out\",\"Val\":0.3},]\n",
    "\n",
    "meta_data_pair[Feature_name0+\"_\"+Feature_name1]={\n",
    "\"input_dim\": [meta_data[var][\"input_dim\"] for var in [varA,varB]],\n",
    "\"Feature_name\": [meta_data[var][\"Feature_name\"] for var in [varA,varB]],\n",
    "\"arch_layers\": [meta_data[var][\"arch_layers\"][:1] for var in [varA,varB]]+[arch_layers2],\n",
    "\"Time_Series\": [meta_data[var][\"Time_Series\"] for var in [varA,varB]],}\n",
    "\n",
    "\n",
    "varA=\"X1\"; varB=\"X3\"\n",
    "Feature_name0=varA\n",
    "Feature_name1=varB\n",
    "arch_layers2=[{\"Net\":\"Dense\",\"Val\":128, \"Monotonicity\": +1, \"Norm\":1},\n",
    "             {\"Net\":\"Drop out\",\"Val\":0.3},]\n",
    "\n",
    "meta_data_pair[Feature_name0+\"_\"+Feature_name1]={\n",
    "\"input_dim\": [meta_data[var][\"input_dim\"] for var in [varA,varB]],\n",
    "\"Feature_name\": [meta_data[var][\"Feature_name\"] for var in [varA,varB]],\n",
    "\"arch_layers\": [meta_data[var][\"arch_layers\"][:1] for var in [varA,varB]]+[arch_layers2],\n",
    "\"Time_Series\": [meta_data[var][\"Time_Series\"] for var in [varA,varB]],}\n",
    "\n",
    "\n",
    "varA=\"X3\"; varB=\"X2\"\n",
    "Feature_name0=varA\n",
    "Feature_name1=varB\n",
    "arch_layers2=[{\"Net\":\"Dense\",\"Val\":128, \"Monotonicity\": +1, \"Norm\":1},\n",
    "             {\"Net\":\"Drop out\",\"Val\":0.3},]\n",
    "\n",
    "meta_data_pair[Feature_name0+\"_\"+Feature_name1]={\n",
    "\"input_dim\": [meta_data[var][\"input_dim\"] for var in [varA,varB]],\n",
    "\"Feature_name\": [meta_data[var][\"Feature_name\"] for var in [varA,varB]],\n",
    "\"arch_layers\": [meta_data[var][\"arch_layers\"][:1] for var in [varA,varB]]+[arch_layers2],\n",
    "\"Time_Series\": [meta_data[var][\"Time_Series\"] for var in [varA,varB]],}\n",
    "    \n",
    "pb=PairEffectBlock(meta_data_pair)\n",
    "\n",
    "pb.call(data)"
   ]
  },
  {
   "cell_type": "code",
   "execution_count": 209,
   "metadata": {},
   "outputs": [
    {
     "data": {
      "text/plain": [
       "{'X1': array([[1, 3, 6, ..., 4, 3, 0],\n",
       "        [3, 5, 1, ..., 0, 8, 7],\n",
       "        [1, 9, 8, ..., 3, 6, 1],\n",
       "        ...,\n",
       "        [3, 4, 1, ..., 6, 8, 9],\n",
       "        [1, 9, 3, ..., 2, 1, 3],\n",
       "        [1, 6, 5, ..., 9, 2, 1]]),\n",
       " 'X2': array([[1],\n",
       "        [3],\n",
       "        [0],\n",
       "        ...,\n",
       "        [5],\n",
       "        [5],\n",
       "        [0]]),\n",
       " 'X3': array([[[6],\n",
       "         [1],\n",
       "         [1],\n",
       "         ...,\n",
       "         [5],\n",
       "         [9],\n",
       "         [6]],\n",
       " \n",
       "        [[3],\n",
       "         [8],\n",
       "         [0],\n",
       "         ...,\n",
       "         [1],\n",
       "         [1],\n",
       "         [5]],\n",
       " \n",
       "        [[8],\n",
       "         [4],\n",
       "         [9],\n",
       "         ...,\n",
       "         [4],\n",
       "         [4],\n",
       "         [4]],\n",
       " \n",
       "        ...,\n",
       " \n",
       "        [[6],\n",
       "         [5],\n",
       "         [5],\n",
       "         ...,\n",
       "         [3],\n",
       "         [9],\n",
       "         [1]],\n",
       " \n",
       "        [[3],\n",
       "         [9],\n",
       "         [3],\n",
       "         ...,\n",
       "         [8],\n",
       "         [3],\n",
       "         [1]],\n",
       " \n",
       "        [[7],\n",
       "         [5],\n",
       "         [9],\n",
       "         ...,\n",
       "         [7],\n",
       "         [5],\n",
       "         [8]]])}"
      ]
     },
     "execution_count": 209,
     "metadata": {},
     "output_type": "execute_result"
    }
   ],
   "source": [
    "data"
   ]
  },
  {
   "cell_type": "code",
   "execution_count": 17,
   "metadata": {},
   "outputs": [
    {
     "name": "stdout",
     "output_type": "stream",
     "text": [
      "tf.Tensor(\n",
      "[[2.038524  ]\n",
      " [0.18589172]\n",
      " [0.73893976]\n",
      " ...\n",
      " [1.828608  ]\n",
      " [1.1378561 ]\n",
      " [0.8104104 ]], shape=(10000, 1), dtype=float32)\n"
     ]
    }
   ],
   "source": [
    "\n",
    "Hidden_Layers= make_single_network(arch_layers)\n",
    "\n",
    "d=np.random.uniform(0, 1, [num_samples,5])\n",
    "d=(d*10).astype(int)\n",
    "input_dim=d.shape[1:]\n",
    "inputs = tfk_layers.Input(shape=input_dim) \n",
    "\n",
    "y=make_call_network(tf.cast(d,tf.float32), Hidden_Layers)\n",
    "print(y)\n",
    "# output_function=tfk.Model(inputs, make_call_network(inputs, Hidden_Layers))\n",
    "# print(output_function(d)-y)"
   ]
  },
  {
   "cell_type": "code",
   "execution_count": null,
   "metadata": {},
   "outputs": [
    {
     "name": "stdout",
     "output_type": "stream",
     "text": [
      "tf.Tensor(\n",
      "[[-0.32638153]\n",
      " [-0.20665245]\n",
      " [-0.11375678]\n",
      " ...\n",
      " [-0.196992  ]\n",
      " [-0.24196355]\n",
      " [-0.31183144]], shape=(10000, 1), dtype=float32)\n"
     ]
    }
   ],
   "source": [
    "np.column_stack\n",
    "Hidden_Layers= make_single_network(arch_layers)\n",
    "\n",
    "d=np.random.uniform(0, 1, [num_samples,5,1])\n",
    "d=(d*10).astype(int)\n",
    "input_dim=d.shape[1:]\n",
    "inputs = tfk_layers.Input(shape=input_dim) \n",
    "\n",
    "y=make_call_network(tf.cast(d,tf.float32), Hidden_Layers)\n",
    "print(y)\n",
    "# output_function=tfk.Model(inputs, make_call_network(inputs, Hidden_Layers))\n",
    "# print(output_function(d)-y)"
   ]
  },
  {
   "cell_type": "code",
   "execution_count": 76,
   "metadata": {},
   "outputs": [
    {
     "name": "stdout",
     "output_type": "stream",
     "text": [
      "(10000, 1)\n",
      "<KerasTensor shape=(None, 1), dtype=float32, sparse=None, name=keras_tensor_152>\n",
      "(10000, 1)\n"
     ]
    }
   ],
   "source": [
    "num_samples=10000\n",
    "d=np.random.uniform(0, 1, [num_samples,1])\n",
    "d=(d*10).astype(int)\n",
    "input_dim=d.shape[1:]\n",
    "layer_nets=[128, 64]\n",
    "\n",
    "print(d.shape)\n",
    "inputs = tfk_layers.Input(shape=input_dim)  \n",
    "hidden_layers = [tfk_layers.Dense(layer_net, activation=\"relu\") for layer_net in layer_nets]\n",
    "output_Layer = tfk_layers.Dense(1, activation=\"linear\") \n",
    "\n",
    "x=inputs\n",
    "for i in range(len(hidden_layers)):\n",
    "    x=  hidden_layers[i](x)\n",
    "output=  output_Layer(x)\n",
    "model=tfk.Model(inputs,output )\n",
    "\n",
    "print(inputs)\n",
    "y=model(d)\n",
    "print(y.shape)"
   ]
  },
  {
   "cell_type": "code",
   "execution_count": 79,
   "metadata": {},
   "outputs": [
    {
     "name": "stdout",
     "output_type": "stream",
     "text": [
      "(10000, 5, 1) (5, 1)\n",
      "<KerasTensor shape=(None, 5, 1), dtype=float32, sparse=None, name=keras_tensor_158>\n",
      "(10000, 1)\n"
     ]
    }
   ],
   "source": [
    "category_num=5\n",
    "num_samples=10000\n",
    "layer_nets=[128, 64]\n",
    "\n",
    "\n",
    "d=np.random.uniform(0, 1, [num_samples,category_num,1])\n",
    "d=(d*10).astype(int)\n",
    "input_dim=d.shape[1:]\n",
    "\n",
    "print(d.shape,input_dim)\n",
    "inputs = tfk_layers.Input(shape=input_dim)  \n",
    "# inputs = tf.one_hot(indices=inputs, depth=category_num) \n",
    "\n",
    "\n",
    "hidden_layers =[tfk_layers.LSTM(layer_net, activation='tanh', return_sequences=False)]+ [tfk_layers.Dense(layer_net, activation=\"relu\") for layer_net in layer_nets]\n",
    "output_Layer = tfk_layers.Dense(1, activation=\"linear\") \n",
    "\n",
    "x=inputs\n",
    "\n",
    "for i in range(len(hidden_layers)):\n",
    "    x=  hidden_layers[i](x)\n",
    "output=  output_Layer(x)\n",
    "model=tfk.Model(inputs,output )\n",
    "\n",
    "print(inputs)\n",
    "y=model(d)\n",
    "print(y.shape)"
   ]
  },
  {
   "cell_type": "code",
   "execution_count": 55,
   "metadata": {},
   "outputs": [
    {
     "data": {
      "text/plain": [
       "array([[7, 9, 5, 3, 0],\n",
       "       [8, 3, 4, 6, 7],\n",
       "       [7, 3, 8, 5, 0],\n",
       "       ...,\n",
       "       [5, 2, 5, 4, 9],\n",
       "       [3, 1, 7, 7, 9],\n",
       "       [4, 3, 5, 6, 5]])"
      ]
     },
     "execution_count": 55,
     "metadata": {},
     "output_type": "execute_result"
    }
   ],
   "source": [
    "d"
   ]
  }
 ],
 "metadata": {
  "kernelspec": {
   "display_name": "env",
   "language": "python",
   "name": "python3"
  },
  "language_info": {
   "codemirror_mode": {
    "name": "ipython",
    "version": 3
   },
   "file_extension": ".py",
   "mimetype": "text/x-python",
   "name": "python",
   "nbconvert_exporter": "python",
   "pygments_lexer": "ipython3",
   "version": "3.12.3"
  }
 },
 "nbformat": 4,
 "nbformat_minor": 2
}
