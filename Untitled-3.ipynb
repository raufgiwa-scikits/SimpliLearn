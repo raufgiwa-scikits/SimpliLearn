{
 "cells": [
  {
   "cell_type": "code",
   "execution_count": null,
   "metadata": {},
   "outputs": [],
   "source": [
    "import numpy as np\n",
    "import tensorflow as tf\n",
    "from tensorflow.keras.layers import Input, Dense, LSTM, Embedding, Flatten, Add, Concatenate\n",
    "from sklearn.model_selection import train_test_split\n",
    "from sklearn.preprocessing import StandardScaler, OneHotEncoder,MinMaxScaler()\n",
    "import matplotlib.pyplot as plt\n",
    "\n",
    "# Generate synthetic data\n",
    "def generate_data(num_samples, time_steps, num_time_features, num_non_time_features, num_categories):\n",
    "    time_series_data = np.random.rand(num_samples, time_steps, num_time_features)  # Time-series data\n",
    "    non_time_series_data = np.random.rand(num_samples, num_non_time_features)      # Non-time-series data\n",
    "    categorical_data = np.random.randint(0, num_categories, size=(num_samples, 1))  # Categorical data\n",
    "    targets = np.random.randint(0, 2, size=(num_samples, 1))                       # Binary targets\n",
    "    return time_series_data, non_time_series_data, categorical_data, targets\n",
    "\n",
    "# Parameters\n",
    "num_samples = 1000\n",
    "time_steps = 10\n",
    "num_time_features = 3\n",
    "num_non_time_features = 5\n",
    "num_categories = 4  # Number of unique categories for the categorical feature\n",
    "\n",
    "# Generate data\n",
    "time_series_data, non_time_series_data, categorical_data, targets = generate_data(\n",
    "    num_samples, time_steps, num_time_features, num_non_time_features, num_categories\n",
    ")\n",
    "\n",
    "# Split data into train and test sets\n",
    "X_time_train, X_time_test, X_non_time_train, X_non_time_test, X_cat_train, X_cat_test, y_train, y_test = train_test_split(\n",
    "    time_series_data, non_time_series_data, categorical_data, targets, test_size=0.2, random_state=42\n",
    ")\n",
    "\n",
    "# Standardize non-time-series data\n",
    "scaler = StandardScaler()\n",
    "X_non_time_train = scaler.fit_transform(X_non_time_train)\n",
    "X_non_time_test = scaler.transform(X_non_time_test)\n",
    "\n",
    "# One-hot encode categorical data\n",
    "encoder = OneHotEncoder()\n",
    "X_cat_train = encoder.fit_transform(X_cat_train)\n",
    "X_cat_test = encoder.transform(X_cat_test)\n"
   ]
  },
  {
   "cell_type": "code",
   "execution_count": 12,
   "metadata": {},
   "outputs": [
    {
     "name": "stdout",
     "output_type": "stream",
     "text": [
      "Requirement already satisfied: numpy in c:\\users\\giwa\\.conda\\envs\\env\\lib\\site-packages (1.26.4)\n",
      "Note: you may need to restart the kernel to use updated packages.\n"
     ]
    }
   ],
   "source": [
    "%pip install numpy"
   ]
  },
  {
   "cell_type": "code",
   "execution_count": 2,
   "metadata": {},
   "outputs": [
    {
     "name": "stdout",
     "output_type": "stream",
     "text": [
      "10000\n"
     ]
    },
    {
     "data": {
      "text/plain": [
       "array([[[0.10323641],\n",
       "        [0.3941452 ],\n",
       "        [0.96084058],\n",
       "        [0.35478944],\n",
       "        [0.15661515]],\n",
       "\n",
       "       [[0.9110511 ],\n",
       "        [0.00924165],\n",
       "        [0.19146965],\n",
       "        [0.87023115],\n",
       "        [0.64741359]],\n",
       "\n",
       "       [[0.885226  ],\n",
       "        [0.12506595],\n",
       "        [0.73177813],\n",
       "        [0.74201436],\n",
       "        [0.32094505]],\n",
       "\n",
       "       ...,\n",
       "\n",
       "       [[0.70494844],\n",
       "        [0.77073865],\n",
       "        [0.30908583],\n",
       "        [0.91929763],\n",
       "        [0.28426716]],\n",
       "\n",
       "       [[0.47137842],\n",
       "        [0.96757621],\n",
       "        [0.11016196],\n",
       "        [0.77369344],\n",
       "        [0.94371523]],\n",
       "\n",
       "       [[0.71762359],\n",
       "        [0.70188517],\n",
       "        [0.96998992],\n",
       "        [0.59615366],\n",
       "        [0.83654623]]])"
      ]
     },
     "metadata": {},
     "output_type": "display_data"
    }
   ],
   "source": [
    "%run DataGenerator\n",
    "\n",
    "x=TimeGenerator()\n",
    "display(x)"
   ]
  },
  {
   "cell_type": "code",
   "execution_count": 7,
   "metadata": {},
   "outputs": [
    {
     "ename": "TypeError",
     "evalue": "CatGenerator() takes from 0 to 4 positional arguments but 5 were given",
     "output_type": "error",
     "traceback": [
      "\u001b[1;31m---------------------------------------------------------------------------\u001b[0m",
      "\u001b[1;31mTypeError\u001b[0m                                 Traceback (most recent call last)",
      "Cell \u001b[1;32mIn[7], line 11\u001b[0m\n\u001b[0;32m      8\u001b[0m p1\u001b[38;5;241m=\u001b[39m\u001b[38;5;241m1\u001b[39m\n\u001b[0;32m      9\u001b[0m categories\u001b[38;5;241m=\u001b[39m\u001b[38;5;241m5\u001b[39m\n\u001b[1;32m---> 11\u001b[0m x\u001b[38;5;241m=\u001b[39m CatGenerator(num_samples, distribution, seed, p0,p1)\n\u001b[0;32m     12\u001b[0m x\u001b[38;5;241m=\u001b[39m(MinMaxScaler()\u001b[38;5;241m.\u001b[39mfit_transform(x)\u001b[38;5;241m*\u001b[39mcategories)\u001b[38;5;241m.\u001b[39mastype(\u001b[38;5;28mint\u001b[39m)\n\u001b[0;32m     13\u001b[0m x\n",
      "\u001b[1;31mTypeError\u001b[0m: CatGenerator() takes from 0 to 4 positional arguments but 5 were given"
     ]
    }
   ],
   "source": [
    "%run DataGenerator\n",
    "\n",
    "\n",
    "num_samples=100\n",
    "distribution=\"uniform\"\n",
    "seed=None\n",
    "p0=0\n",
    "p1=1\n",
    "categories=5\n",
    "\n",
    "x= CatGenerator(num_samples, distribution, seed, p0,p1)\n",
    "x=(MinMaxScaler().fit_transform(x)*categories).astype(int)\n",
    "x"
   ]
  },
  {
   "cell_type": "code",
   "execution_count": 2,
   "metadata": {},
   "outputs": [],
   "source": [
    "import numpy as np\n",
    "import tensorflow as tf\n",
    "import tensorflow.keras.layers as tfk_layers\n",
    "import tensorflow.keras as tfk\n",
    "import tensorflow_lattice as tfl\n",
    "from sklearn.model_selection import train_test_split\n",
    "from sklearn.preprocessing import StandardScaler, OneHotEncoder,MinMaxScaler\n",
    "import matplotlib.pyplot as plt\n",
    "\n",
    "import numpy as np\n",
    "import pandas as pd\n",
    "from sklearn.compose import ColumnTransformer\n",
    "from sklearn.impute import SimpleImputer\n",
    "import tensorflow as tf\n",
    "import tensorflow as tf\n",
    "# import shap\n"
   ]
  },
  {
   "cell_type": "code",
   "execution_count": 120,
   "metadata": {},
   "outputs": [],
   "source": [
    "       \n",
    "class MonotonicityConstraint(tf.keras.constraints.Constraint):\n",
    "    def __init__(self, monotonicity):\n",
    "        if monotonicity not in [+1, -1]:\n",
    "            raise ValueError(\"monotonicity must be +1 or -1\")\n",
    "        self.monotonicity = monotonicity\n",
    "    def __call__(self, w):\n",
    "        return tf.nn.relu(w) if self.monotonicity == +1 else -tf.nn.relu(-w)\n",
    "    def get_config(self):\n",
    "        return {'monotonicity': self.monotonicity}\n",
    "    \n",
    "class MaxNormConstraint(tf.keras.constraints.Constraint):\n",
    "    def __init__(self, max_norm, axis=0):\n",
    "        self.max_norm = max_norm\n",
    "        self.axis = axis\n",
    "    def __call__(self, w):\n",
    "        return w * tf.clip_by_value(tf.norm(w, axis=self.axis, keepdims=True), 0, self.max_norm) / (tf.norm(w, axis=self.axis, keepdims=True) + tf.keras.backend.epsilon())\n",
    "    def get_config(self):\n",
    "        return {'max_norm': self.max_norm, 'axis': self.axis}\n",
    "    \n",
    "class NormAndMonotonicityConstraint(tf.keras.constraints.Constraint):\n",
    "    def __init__(self, max_norm, monotonicity=+1, axis=0):\n",
    "        if monotonicity not in [+1, -1]:\n",
    "            raise ValueError(\"monotonicity must be +1 or -1\")\n",
    "        self.max_norm = max_norm\n",
    "        self.monotonicity = monotonicity\n",
    "        self.axis = axis\n",
    "\n",
    "    def __call__(self, w):\n",
    "        # Enforce monotonicity\n",
    "        if self.monotonicity == +1:\n",
    "            w = tf.nn.relu(w)\n",
    "        elif self.monotonicity == -1:\n",
    "            w = -tf.nn.relu(-w)\n",
    "        \n",
    "        # Enforce norm constraint\n",
    "        norms = tf.norm(w, axis=self.axis, keepdims=True)\n",
    "        return w * tf.clip_by_value(norms, 0, self.max_norm) / (norms + tf.keras.backend.epsilon())\n",
    "\n",
    "    def get_config(self):\n",
    "        return {\n",
    "            'max_norm': self.max_norm,\n",
    "            'monotonicity': self.monotonicity,\n",
    "            'axis': self.axis\n",
    "        }\n",
    "        \n",
    "def make_single_network(arch_layers,name=\"Net\"): \n",
    "    Hidden_Layers=[]\n",
    "    for n,arch_layer in enumerate(arch_layers):\n",
    "        layer_type=arch_layer[\"Net\"]\n",
    "        layer_net=arch_layer[\"Val\"]      \n",
    "                            \n",
    "        if layer_type.lower()==\"lstm\":\n",
    "            layer=tfk_layers.LSTM(layer_net, activation='tanh', return_sequences=False)\n",
    "            \n",
    "        if layer_type.lower()==\"dense\":\n",
    "            layer=tfk_layers.Dense(layer_net, activation=\"relu\")                       \n",
    "            if \"Monotonicity\" in list(arch_layer) and \"Norm\" in list(arch_layer):\n",
    "                NormAndMonotonicity=NormAndMonotonicityConstraint(arch_layer[\"Norm\"], arch_layer[\"Monotonicity\"])\n",
    "                layer.kernel_constraint=NormAndMonotonicity\n",
    "            \n",
    "            elif \"Monotonicity\" in list(arch_layer):\n",
    "                Monotonicity=MonotonicityConstraint(arch_layer[\"Monotonicity\"])\n",
    "                layer.kernel_constraint=Monotonicity\n",
    "                \n",
    "            elif \"Norm\" in list(arch_layer):\n",
    "                Norm=MaxNormConstraint(arch_layer[\"Norm\"])\n",
    "                layer.kernel_constraint=Norm\n",
    "            \n",
    "        if layer_type.lower()==\"drop out\":\n",
    "            layer=tfk_layers.Dropout(layer_net)\n",
    "                \n",
    "        if layer_type.lower()==\"tfl-pwl\":         \n",
    "            if \"Constraint\" in list(arch_layer):\n",
    "                layer = tfl.layers.Lattice(lattice_sizes=layer_net, monotonicities=arch_layer['Constraint'], output_min=0.0, output_max=1.)\n",
    "            else:                \n",
    "                layer = tfl.layers.Lattice(lattice_sizes=layer_net, output_min=0.0, output_max=1.)\n",
    "        layer.name=f\"{name}:{layer_type.upper()}:{n}\"\n",
    "        Hidden_Layers.append(layer) \n",
    "    output_Layer = tfk_layers.Dense(1, activation=\"linear\") \n",
    "    output_Layer.name= f\"{name}:output\"\n",
    "    Hidden_Layers.append(output_Layer)            \n",
    "    return Hidden_Layers\n",
    "\n",
    "\n",
    "def make_output_network(inputs, Hidden_Layers): \n",
    "    x=inputs\n",
    "    for i in range(len(Hidden_Layers)):\n",
    "        x = Hidden_Layers[i](x)\n",
    "    return tfk.Model(inputs,x )"
   ]
  },
  {
   "cell_type": "code",
   "execution_count": 102,
   "metadata": {},
   "outputs": [],
   "source": []
  },
  {
   "cell_type": "code",
   "execution_count": 163,
   "metadata": {},
   "outputs": [],
   "source": [
    "\n",
    "%run NetworksV2\n",
    "\n",
    "\n",
    "num_samples=10000"
   ]
  },
  {
   "cell_type": "code",
   "execution_count": null,
   "metadata": {},
   "outputs": [
    {
     "name": "stdout",
     "output_type": "stream",
     "text": [
      "tf.Tensor(\n",
      "[[0.00073876]\n",
      " [0.00221629]\n",
      " [0.00443257]\n",
      " ...\n",
      " [0.00147752]\n",
      " [0.00369381]\n",
      " [0.00517134]], shape=(10000, 1), dtype=float32)\n"
     ]
    }
   ],
   "source": [
    "\n",
    "%run NetworksV2\n",
    "\n",
    "arch_layers=[{\"Net\":\"tfl-pwl\",\"Val\":128, \"Monotonicity\": +1,},\n",
    "             {\"Net\":\"Drop out\",\"Val\":0.3}, \n",
    "             {\"Net\":\"Dense\",\"Val\":128},\n",
    "             {\"Net\":\"Drop out\",\"Val\":0.3},]\n",
    "Hidden_Layers= make_single_network(arch_layers)\n",
    "\n",
    "d=np.random.uniform(0, 1, [num_samples,1])\n",
    "d=(d*10).astype(int)\n",
    "input_dim=d.shape[1:]\n",
    "inputs = tfk_layers.Input(shape=input_dim) \n",
    "\n",
    "y=make_call_network(tf.cast(d,tf.float32), Hidden_Layers)\n",
    "print(y)\n",
    "# output_function=tfk.Model(inputs, make_call_network(inputs, Hidden_Layers))\n",
    "# print(output_function(d)-y)\n"
   ]
  },
  {
   "cell_type": "code",
   "execution_count": 15,
   "metadata": {},
   "outputs": [
    {
     "name": "stdout",
     "output_type": "stream",
     "text": [
      "tf.Tensor(\n",
      "[[-0.1688388 ]\n",
      " [-0.02110485]\n",
      " [ 0.        ]\n",
      " ...\n",
      " [-0.02110485]\n",
      " [-0.0422097 ]\n",
      " [-0.14773417]], shape=(10000, 1), dtype=float32)\n"
     ]
    }
   ],
   "source": [
    "arch_layers=[{\"Net\":\"Dense\",\"Val\":128},\n",
    "             {\"Net\":\"Drop out\",\"Val\":0.3}, \n",
    "             {\"Net\":\"Dense\",\"Val\":128},\n",
    "             {\"Net\":\"Drop out\",\"Val\":0.3},]\n",
    "Hidden_Layers= make_single_network(arch_layers)\n",
    "\n",
    "d=np.random.uniform(0, 1, [num_samples,1])\n",
    "d=(d*10).astype(int)\n",
    "input_dim=d.shape[1:]\n",
    "inputs = tfk_layers.Input(shape=input_dim) \n",
    "\n",
    "y=make_call_network(tf.cast(d,tf.float32), Hidden_Layers)\n",
    "print(y)\n",
    "# output_function=tfk.Model(inputs, make_call_network(inputs, Hidden_Layers))\n",
    "# print(output_function(d)-y)\n"
   ]
  },
  {
   "cell_type": "code",
   "execution_count": 16,
   "metadata": {},
   "outputs": [
    {
     "name": "stdout",
     "output_type": "stream",
     "text": [
      "tf.Tensor(\n",
      "[[0.39683187]\n",
      " [0.8928716 ]\n",
      " [0.09920797]\n",
      " ...\n",
      " [0.2976239 ]\n",
      " [0.19841594]\n",
      " [0.6944558 ]], shape=(10000, 1), dtype=float32)\n"
     ]
    }
   ],
   "source": [
    "arch_layers=[{\"Net\":\"Dense\",\"Val\":128, \"Monotonicity\": +1, \"Norm\":1},\n",
    "             {\"Net\":\"Drop out\",\"Val\":0.3}, \n",
    "             {\"Net\":\"Dense\",\"Val\":128, \"Convexity\": +1,\"Norm\":1},\n",
    "             {\"Net\":\"Drop out\",\"Val\":0.3},]\n",
    "Hidden_Layers= make_single_network(arch_layers)\n",
    "\n",
    "d=np.random.uniform(0, 1, [num_samples,1])\n",
    "d=(d*10).astype(int)\n",
    "input_dim=d.shape[1:]\n",
    "inputs = tfk_layers.Input(shape=input_dim) \n",
    "\n",
    "y=make_call_network(tf.cast(d,tf.float32), Hidden_Layers)\n",
    "print(y)\n",
    "# output_function=tfk.Model(inputs, make_call_network(inputs, Hidden_Layers))\n",
    "# print(output_function(d)-y)"
   ]
  },
  {
   "cell_type": "code",
   "execution_count": 33,
   "metadata": {},
   "outputs": [],
   "source": [
    "\n",
    "output_Layer = tfk_layers.Dense(1, activation=\"linear\")\n",
    "\n",
    "layer = tfk_layers.Dense(\n",
    "    units=64,\n",
    "    kernel_initializer=tfk.initializers.RandomNormal(stddev=0.01),\n",
    "    bias_initializer=tfk.initializers.Zeros()\n",
    ")\n",
    "\n",
    "w=layer.get_config"
   ]
  },
  {
   "cell_type": "code",
   "execution_count": 17,
   "metadata": {},
   "outputs": [
    {
     "name": "stdout",
     "output_type": "stream",
     "text": [
      "tf.Tensor(\n",
      "[[2.038524  ]\n",
      " [0.18589172]\n",
      " [0.73893976]\n",
      " ...\n",
      " [1.828608  ]\n",
      " [1.1378561 ]\n",
      " [0.8104104 ]], shape=(10000, 1), dtype=float32)\n"
     ]
    }
   ],
   "source": [
    "arch_layers=[{\"Net\":\"Dense\",\"Val\":128, \"Monotonicity\": +1, \"Norm\":1},\n",
    "             {\"Net\":\"Drop out\",\"Val\":0.3}, \n",
    "             {\"Net\":\"Dense\",\"Val\":128, \"Convexity\": +1,\"Norm\":1},\n",
    "             {\"Net\":\"Drop out\",\"Val\":0.3},]\n",
    "Hidden_Layers= make_single_network(arch_layers)\n",
    "\n",
    "d=np.random.uniform(0, 1, [num_samples,5])\n",
    "d=(d*10).astype(int)\n",
    "input_dim=d.shape[1:]\n",
    "inputs = tfk_layers.Input(shape=input_dim) \n",
    "\n",
    "y=make_call_network(tf.cast(d,tf.float32), Hidden_Layers)\n",
    "print(y)\n",
    "# output_function=tfk.Model(inputs, make_call_network(inputs, Hidden_Layers))\n",
    "# print(output_function(d)-y)"
   ]
  },
  {
   "cell_type": "code",
   "execution_count": 18,
   "metadata": {},
   "outputs": [
    {
     "name": "stdout",
     "output_type": "stream",
     "text": [
      "tf.Tensor(\n",
      "[[ 0.01098432]\n",
      " [ 0.01833383]\n",
      " [ 0.02155183]\n",
      " ...\n",
      " [-0.01902686]\n",
      " [ 0.01652214]\n",
      " [-0.0212343 ]], shape=(10000, 1), dtype=float32)\n"
     ]
    }
   ],
   "source": [
    "arch_layers=[{\"Net\":\"LSTM\",\"Val\":128},\n",
    "             {\"Net\":\"Drop out\",\"Val\":0.3}, \n",
    "             {\"Net\":\"Dense\",\"Val\":128, \"Convexity\": +1,\"Norm\":1},\n",
    "             {\"Net\":\"Drop out\",\"Val\":0.3},]\n",
    "Hidden_Layers= make_single_network(arch_layers)\n",
    "\n",
    "d=np.random.uniform(0, 1, [num_samples,5,1])\n",
    "d=(d*10).astype(int)\n",
    "input_dim=d.shape[1:]\n",
    "inputs = tfk_layers.Input(shape=input_dim) \n",
    "\n",
    "y=make_call_network(tf.cast(d,tf.float32), Hidden_Layers)\n",
    "print(y)\n",
    "# output_function=tfk.Model(inputs, make_call_network(inputs, Hidden_Layers))\n",
    "# print(output_function(d)-y)"
   ]
  },
  {
   "cell_type": "code",
   "execution_count": 76,
   "metadata": {},
   "outputs": [
    {
     "name": "stdout",
     "output_type": "stream",
     "text": [
      "(10000, 1)\n",
      "<KerasTensor shape=(None, 1), dtype=float32, sparse=None, name=keras_tensor_152>\n",
      "(10000, 1)\n"
     ]
    }
   ],
   "source": [
    "num_samples=10000\n",
    "d=np.random.uniform(0, 1, [num_samples,1])\n",
    "d=(d*10).astype(int)\n",
    "input_dim=d.shape[1:]\n",
    "layer_nets=[128, 64]\n",
    "\n",
    "print(d.shape)\n",
    "inputs = tfk_layers.Input(shape=input_dim)  \n",
    "hidden_layers = [tfk_layers.Dense(layer_net, activation=\"relu\") for layer_net in layer_nets]\n",
    "output_Layer = tfk_layers.Dense(1, activation=\"linear\") \n",
    "\n",
    "x=inputs\n",
    "for i in range(len(hidden_layers)):\n",
    "    x=  hidden_layers[i](x)\n",
    "output=  output_Layer(x)\n",
    "model=tfk.Model(inputs,output )\n",
    "\n",
    "print(inputs)\n",
    "y=model(d)\n",
    "print(y.shape)"
   ]
  },
  {
   "cell_type": "code",
   "execution_count": 79,
   "metadata": {},
   "outputs": [
    {
     "name": "stdout",
     "output_type": "stream",
     "text": [
      "(10000, 5, 1) (5, 1)\n",
      "<KerasTensor shape=(None, 5, 1), dtype=float32, sparse=None, name=keras_tensor_158>\n",
      "(10000, 1)\n"
     ]
    }
   ],
   "source": [
    "category_num=5\n",
    "num_samples=10000\n",
    "layer_nets=[128, 64]\n",
    "\n",
    "\n",
    "d=np.random.uniform(0, 1, [num_samples,category_num,1])\n",
    "d=(d*10).astype(int)\n",
    "input_dim=d.shape[1:]\n",
    "\n",
    "print(d.shape,input_dim)\n",
    "inputs = tfk_layers.Input(shape=input_dim)  \n",
    "# inputs = tf.one_hot(indices=inputs, depth=category_num) \n",
    "\n",
    "\n",
    "hidden_layers =[tfk_layers.LSTM(layer_net, activation='tanh', return_sequences=False)]+ [tfk_layers.Dense(layer_net, activation=\"relu\") for layer_net in layer_nets]\n",
    "output_Layer = tfk_layers.Dense(1, activation=\"linear\") \n",
    "\n",
    "x=inputs\n",
    "\n",
    "for i in range(len(hidden_layers)):\n",
    "    x=  hidden_layers[i](x)\n",
    "output=  output_Layer(x)\n",
    "model=tfk.Model(inputs,output )\n",
    "\n",
    "print(inputs)\n",
    "y=model(d)\n",
    "print(y.shape)"
   ]
  },
  {
   "cell_type": "code",
   "execution_count": 70,
   "metadata": {},
   "outputs": [
    {
     "name": "stdout",
     "output_type": "stream",
     "text": [
      "(10000, 5, 1) (5, 1)\n",
      "<KerasTensor shape=(None, 5, 1), dtype=float32, sparse=None, name=keras_tensor_134>\n",
      "(10000, 1)\n"
     ]
    }
   ],
   "source": [
    "category_num=5\n",
    "num_samples=10000\n",
    "layer_net=128\n",
    "\n",
    "d=np.random.uniform(0, 1, [num_samples,category_num]).reshape(num_samples,category_num,1)\n",
    "d=(d*10).astype(int)\n",
    "input_dim=d.shape[1:]\n",
    "\n",
    "print(d.shape,input_dim)\n",
    "inputs = tfk_layers.Input(shape=input_dim)  \n",
    "hidden_layers =[tfk_layers.LSTM(layer_net, activation='tanh', return_sequences=False)]+ [tfk_layers.Dense(layer_net, activation=\"relu\") for i in [0,1]]\n",
    "output_Layer = tfk_layers.Dense(1, activation=\"linear\") \n",
    "\n",
    "x=inputs\n",
    "\n",
    "for i in range(len(hidden_layers)):\n",
    "    x=  hidden_layers[i](x)\n",
    "output=  output_Layer(x)\n",
    "model=tfk.Model(inputs,output )\n",
    "\n",
    "print(inputs)\n",
    "y=model(d)\n",
    "print(y.shape)"
   ]
  },
  {
   "cell_type": "code",
   "execution_count": 55,
   "metadata": {},
   "outputs": [
    {
     "data": {
      "text/plain": [
       "array([[7, 9, 5, 3, 0],\n",
       "       [8, 3, 4, 6, 7],\n",
       "       [7, 3, 8, 5, 0],\n",
       "       ...,\n",
       "       [5, 2, 5, 4, 9],\n",
       "       [3, 1, 7, 7, 9],\n",
       "       [4, 3, 5, 6, 5]])"
      ]
     },
     "execution_count": 55,
     "metadata": {},
     "output_type": "execute_result"
    }
   ],
   "source": [
    "d"
   ]
  },
  {
   "cell_type": "code",
   "execution_count": null,
   "metadata": {},
   "outputs": [],
   "source": [
    "d=(np.random.uniform(0, 1, 10)*10).astype(int).reshape(-1,1)\n",
    "input_dim=d[1:].shape\n",
    "\n",
    "layer_net=64\n",
    "inputs = tfk_layers.Input(shape=input_dim)  \n",
    "hidden_layer = tfk_layers.Dense(layer_net, activation=\"relu\")\n",
    "output_Layer = tfk_layers.Dense(1, activation=\"linear\") \n",
    "\n",
    "x=  hidden_layer(inputs)\n",
    "output=  output_Layer(x)\n",
    "model=tfk.Model(inputs,output )\n",
    "y=model(d)\n",
    "\n",
    "print(d.shape, y.shape)"
   ]
  },
  {
   "cell_type": "code",
   "execution_count": 34,
   "metadata": {},
   "outputs": [
    {
     "data": {
      "text/plain": [
       "<tf.Tensor: shape=(10000, 1), dtype=float32, numpy=\n",
       "array([[-0.00019477],\n",
       "       [-0.00047675],\n",
       "       [-0.00121311],\n",
       "       ...,\n",
       "       [-0.00069007],\n",
       "       [-0.00091572],\n",
       "       [-0.00097821]], dtype=float32)>"
      ]
     },
     "execution_count": 34,
     "metadata": {},
     "output_type": "execute_result"
    }
   ],
   "source": [
    "tf.reshape(y,[-1,1])"
   ]
  },
  {
   "cell_type": "code",
   "execution_count": 41,
   "metadata": {},
   "outputs": [
    {
     "data": {
      "text/plain": [
       "array([[8],\n",
       "       [1],\n",
       "       [5],\n",
       "       [6],\n",
       "       [5],\n",
       "       [7],\n",
       "       [0],\n",
       "       [4],\n",
       "       [0],\n",
       "       [6]])"
      ]
     },
     "execution_count": 41,
     "metadata": {},
     "output_type": "execute_result"
    }
   ],
   "source": [
    "d"
   ]
  }
 ],
 "metadata": {
  "kernelspec": {
   "display_name": "env",
   "language": "python",
   "name": "python3"
  },
  "language_info": {
   "codemirror_mode": {
    "name": "ipython",
    "version": 3
   },
   "file_extension": ".py",
   "mimetype": "text/x-python",
   "name": "python",
   "nbconvert_exporter": "python",
   "pygments_lexer": "ipython3",
   "version": "3.12.3"
  }
 },
 "nbformat": 4,
 "nbformat_minor": 2
}
