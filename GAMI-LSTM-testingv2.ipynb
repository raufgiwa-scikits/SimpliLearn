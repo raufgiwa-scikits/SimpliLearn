{
 "cells": [
  {
   "cell_type": "code",
   "execution_count": 6,
   "metadata": {},
   "outputs": [
    {
     "name": "stdout",
     "output_type": "stream",
     "text": [
      "WARNING:tensorflow:From c:\\Users\\Giwa\\.conda\\envs\\env\\Lib\\site-packages\\tf_keras\\src\\losses.py:2976: The name tf.losses.sparse_softmax_cross_entropy is deprecated. Please use tf.compat.v1.losses.sparse_softmax_cross_entropy instead.\n",
      "\n"
     ]
    }
   ],
   "source": [
    "from sklearn.compose import ColumnTransformer\n",
    "from sklearn.impute import SimpleImputer\n",
    "from sklearn.model_selection import train_test_split\n",
    "from sklearn.preprocessing import StandardScaler, OneHotEncoder\n",
    "from sklearn.preprocessing import StandardScaler, OneHotEncoder,MinMaxScaler\n",
    "from tensorflow.keras import layers, Model\n",
    "from tensorflow.keras.layers import Input, Dense, LSTM, Embedding, Flatten, Add, Concatenate\n",
    "import matplotlib.pyplot as plt\n",
    "import numpy as np\n",
    "import pandas as pd\n",
    "import tensorflow as tf\n",
    "import tensorflow_lattice as tfl\n",
    "from sklearn.preprocessing import StandardScaler, OneHotEncoder,MinMaxScaler\n",
    "import numpy as np\n",
    "import pandas as pd\n",
    "# import shap\n",
    "\n",
    "import numpy as np\n",
    "import tensorflow as tf\n",
    "import tensorflow.keras.layers as tfk_layers\n",
    "import tensorflow.keras as tfk\n",
    "import tensorflow_lattice as tfl\n",
    "from sklearn.model_selection import train_test_split\n",
    "from sklearn.preprocessing import StandardScaler, OneHotEncoder,MinMaxScaler\n",
    "import matplotlib.pyplot as plt\n",
    "\n",
    "import numpy as np\n",
    "import pandas as pd\n",
    "from sklearn.compose import ColumnTransformer\n",
    "from sklearn.impute import SimpleImputer\n",
    "import tensorflow as tf\n",
    "\n",
    "num_samples=1000\n",
    "%run TimeNetworksV3"
   ]
  },
  {
   "cell_type": "markdown",
   "metadata": {},
   "source": [
    "# develop meta_data"
   ]
  },
  {
   "cell_type": "code",
   "execution_count": 11,
   "metadata": {},
   "outputs": [
    {
     "data": {
      "text/plain": [
       "<Derived name=derived_4, built=False>"
      ]
     },
     "execution_count": 11,
     "metadata": {},
     "output_type": "execute_result"
    }
   ],
   "source": [
    "class MetaA(type):\n",
    "    pass\n",
    "\n",
    "class MetaB(type):\n",
    "    pass\n",
    "\n",
    "class CommonMeta(MetaA, MetaB):\n",
    "    pass\n",
    "\n",
    "class BaseA(metaclass=MetaA):\n",
    "    pass\n",
    "\n",
    "class BaseB():\n",
    "    pass\n",
    "\n",
    "class Derived(tf.keras.layers.Layer, BaseA, BaseB, metaclass=CommonMeta):  # Resolve conflict\n",
    "    pass\n",
    "\n",
    "Derived()"
   ]
  },
  {
   "cell_type": "code",
   "execution_count": 2,
   "metadata": {},
   "outputs": [],
   "source": [
    "# data ger\n",
    "x = RandomGenerator(num_samples=9, depth=1, data_point_dim=1,Categorical=5,Time_Series=0)"
   ]
  },
  {
   "cell_type": "code",
   "execution_count": 17,
   "metadata": {},
   "outputs": [
    {
     "name": "stdout",
     "output_type": "stream",
     "text": [
      "\n",
      "X1 [0.78349656]\n",
      "X2 [0.19278566]\n",
      "X3 [0.83162011]\n"
     ]
    },
    {
     "name": "stderr",
     "output_type": "stream",
     "text": [
      "C:\\Users\\Giwa\\AppData\\Local\\Temp\\ipykernel_57696\\388872985.py:80: DeprecationWarning: This function is deprecated. Please call randint(0, 3 + 1) instead\n",
      "  n= np.random.random_integers(0,3)\n"
     ]
    }
   ],
   "source": [
    "# Generate Data\n",
    "# develop meta_data\n",
    "# exec(open(\"NetworksV2.py\").read())\n",
    "\n",
    "arch_layers_def = [{\"Net\": \"Dense\", \"Val\": 128}]\n",
    "arch_layers_number = [{\"Net\": \"Dense\", \"Val\": 128},\n",
    "                      {\"Net\": \"Dense\", \"Val\": 128}]\n",
    "arch_layers_time = [{\"Net\": \"LSTM\", \"Val\": 32}]\n",
    "arch_layers_categ = [{\"Net\": \"CategNet\", \"Val\": 128}]\n",
    "\n",
    "\n",
    "data_dict={}\n",
    "data_info={}\n",
    "i=0\n",
    "i = i + 1; var = f\"X{i}\"\n",
    "x=RandomGenerator(num_samples=num_samples, depth=1, data_point_dim=1,Categorical=0,Time_Series=0,distribution=\"uniform\",)\n",
    "data_dict[var]=x['data']; x.pop(\"data\")\n",
    "data_info[var]=x\n",
    "\n",
    "i = i + 1; var = f\"X{i}\"\n",
    "x=RandomGenerator(num_samples=num_samples, depth=1, data_point_dim=1,Categorical=0,Time_Series=0,distribution=\"normal\",)\n",
    "data_dict[var]=x['data']; x.pop(\"data\")\n",
    "data_info[var]=x\n",
    "\n",
    "i = i + 1; var = f\"X{i}\"\n",
    "x=RandomGenerator(num_samples=num_samples, depth=1, data_point_dim=1,Categorical=0,Time_Series=0,distribution=\"normal\",)\n",
    "data_dict[var]=x['data']; x.pop(\"data\")\n",
    "data_info[var]=x\n",
    "\n",
    "\n",
    "meta_data = {}; i=0\n",
    "i = i + 1; var = f\"X{i}\"\n",
    "meta_data[var] = {\"input_dim\": data_info[var][\"input_dim\"], \"arch_layers\": arch_layers_number, \"name\": var, \"Time_Series\": data_info[var][\"Time_Series\"],\"Categorical\":data_info[var][\"Categorical\"]}\n",
    "i = i + 1; var = f\"X{i}\"\n",
    "meta_data[var] = {\"input_dim\": data_info[var][\"input_dim\"], \"arch_layers\": arch_layers_number, \"name\": var, \"Time_Series\": data_info[var][\"Time_Series\"],\"Categorical\":data_info[var][\"Categorical\"]}\n",
    "i = i + 1; var = f\"X{i}\"\n",
    "meta_data[var] = {\"input_dim\": data_info[var][\"input_dim\"], \"arch_layers\": arch_layers_number, \"name\": var, \"Time_Series\": data_info[var][\"Time_Series\"],\"Categorical\":data_info[var][\"Categorical\"]}\n",
    "\n",
    "# display(meta_data)\n",
    "\n",
    "interactions=[[list(data_info)[i],list(data_info)[j]] for i in range(len(list(data_info))) for j in range(i,len(list(data_info)))]\n",
    "print()\n",
    "np.random.shuffle(interactions)\n",
    "interactions=interactions[:3]\n",
    "\n",
    "\n",
    "meta_data_pair ={}\n",
    "arch_layers2 = [{\"Net\": \"Dense\", \"Val\": 256,  \"Norm\": [-1,1]}]\n",
    "\n",
    "var0, var1 = interactions[0]\n",
    "\n",
    "meta_data_pair[f\"{var0} x {var1}\"] = {\n",
    "    \"input_dim\": [meta_data[var][\"input_dim\"] for var in [var0, var1]],\n",
    "    \"name\": [meta_data[var][\"name\"] for var in [var0, var1]],\n",
    "    \"arch_layers\": [meta_data[var][\"arch_layers\"][:-1] for var in [var0, var1]] + [arch_layers2],\n",
    "    \"Time_Series\": [meta_data[var][\"Time_Series\"] for var in [var0, var1]],\n",
    "}\n",
    "\n",
    "var0, var1 = interactions[1]\n",
    "\n",
    "meta_data_pair[f\"{var0} x {var1}\"]  = {\n",
    "    \"input_dim\": [meta_data[var][\"input_dim\"] for var in [var0, var1]],\n",
    "    \"name\": [meta_data[var][\"name\"] for var in [var0, var1]],\n",
    "    \"arch_layers\": [meta_data[var][\"arch_layers\"][:-1] for var in [var0, var1]] + [arch_layers2],\n",
    "    \"Time_Series\": [meta_data[var][\"Time_Series\"] for var in [var0, var1]],\n",
    "}\n",
    "\n",
    "var0, var1 = interactions[2]\n",
    "meta_data_pair[f\"{var0} x {var1}\"]  = {\n",
    "    \"input_dim\": [meta_data[var][\"input_dim\"] for var in [var0, var1]],\n",
    "    \"name\": [meta_data[var][\"name\"] for var in [var0, var1]],\n",
    "    \"arch_layers\": [meta_data[var][\"arch_layers\"][:-1] for var in [var0, var1]] + [arch_layers2],\n",
    "    \"Time_Series\": [meta_data[var][\"Time_Series\"] for var in [var0, var1]],\n",
    "}\n",
    "\n",
    "\n",
    "# display(meta_data_pair)\n",
    "\n",
    "def fxn(x):\n",
    "    n= np.random.random_integers(0,3)\n",
    "    if n==0:\n",
    "        return x**2/2\n",
    "    if n==1:\n",
    "        return x*np.exp(-x)\n",
    "    if n==2:\n",
    "        return x**2/2-np.sin(x*np.pi)\n",
    "    if n==3:\n",
    "        return x**2/2+x\n",
    "    \n",
    "y=0\n",
    "for n,var in enumerate(list(meta_data)):\n",
    "    m= np.random.uniform(0,1,meta_data[var]['input_dim'][1:])\n",
    "    print(var, m)\n",
    "    w=np.random.uniform(0,10)\n",
    "    y=y+fxn(np.dot(m.T,data_dict[var].T))*w\n",
    "    # print(w)\n",
    "    # print(y.shape)\n",
    "\n",
    "y=y-y.mean()\n",
    "y=y/np.max(np.abs(y))\n",
    "y=MinMaxScaler().fit_transform(y.reshape(-1,1));\n",
    "\n",
    "W=np.random.uniform(0,1,num_samples)\n",
    "\n",
    "i_list=[i for i in range(num_samples)]\n",
    "np.random.shuffle(i_list)\n",
    "i_list=i_list\n",
    "\n",
    "data_dict[\"target\"]=y.reshape(1,-1)[0]\n",
    "data_dict[\"weight\"]=W.reshape(1,-1)[0]*0+1\n",
    "\n",
    "meta_target={\"target\":\"target\",\"weight\":\"weight\", \"train\":i_list[:int(num_samples*.7)],\n",
    "             \"valid\":[ i_list[int(num_samples*.7):],i_list[int(num_samples*.4):int(num_samples*.8)], ]}\n",
    "meta_target={\"target\":\"target\",\"weight\":\"weight\", \"train\":i_list[:int(num_samples*.7)],\n",
    "             \"valid\":[  ]}\n",
    "\n",
    "\n"
   ]
  },
  {
   "cell_type": "code",
   "execution_count": 5,
   "metadata": {},
   "outputs": [
    {
     "name": "stdout",
     "output_type": "stream",
     "text": [
      "(1000, 1)\n",
      "(1000, 1)\n",
      "(1000, 1)\n",
      "(1000, 1)\n",
      "(1000, 1)\n",
      "(1000, 1)\n"
     ]
    }
   ],
   "source": [
    "# Test Main Networks\n",
    "%run TimeNetworksV3\n",
    "MainEffect_Block_Networks = {}\n",
    "for var in meta_data:\n",
    "    arch_layers = meta_data[var][\"arch_layers\"]\n",
    "    input_dim = meta_data[var][\"input_dim\"]\n",
    "    Time_Series = meta_data[var][\"Time_Series\"]\n",
    "    sg = MainEffect_Net(input_dim=input_dim,name=var,arch_layers=arch_layers,Time_Series=Time_Series)\n",
    "    MainEffect_Block_Networks[var] = sg\n",
    "    \n",
    "single_outputs = [MainEffect_Block_Networks[var].call(data_dict[var]) for var in meta_data]\n",
    "\n",
    "for x in single_outputs:\n",
    "    print(x.shape)\n",
    "    \n",
    "    \n",
    "single_outputs = [MainEffect_Block_Networks[var].call(data_dict[var]) for var in meta_data]\n",
    "\n",
    "\n",
    "PairEffect_Block_Networks = {}\n",
    "Output_Layer = tf.keras.layers.Dense(1,activation=\"linear\")\n",
    "for var in meta_data_pair:\n",
    "    name = meta_data_pair[var][\"name\"]\n",
    "    arch_layers = meta_data_pair[var][\"arch_layers\"]\n",
    "    input_dim = meta_data_pair[var][\"input_dim\"]\n",
    "    Time_Series = meta_data_pair[var][\"Time_Series\"]\n",
    "    sg = PairEffect_Net( input_dim=input_dim,name=name,arch_layers=arch_layers,Time_Series=Time_Series )\n",
    "    PairEffect_Block_Networks[var] = sg\n",
    "\n",
    "\n",
    "pair_outputs = [PairEffect_Block_Networks[var].call([data_dict[var] for var in meta_data_pair[var][\"name\"]]) for var in meta_data_pair]\n",
    "\n",
    "for x in pair_outputs:\n",
    "    print(x.shape)"
   ]
  },
  {
   "cell_type": "code",
   "execution_count": 24,
   "metadata": {},
   "outputs": [
    {
     "name": "stdout",
     "output_type": "stream",
     "text": [
      "{'input_dim': (1000, 1), 'arch_layers': [{'Net': 'Dense', 'Val': 128}, {'Net': 'Dense', 'Val': 128}], 'name': 'X1', 'Time_Series': 0, 'Categorical': 0, 'Monotonicity': 0, 'Norm': [-1, 1]}\n",
      "{'input_dim': (1000, 1), 'arch_layers': [{'Net': 'Dense', 'Val': 128}, {'Net': 'Dense', 'Val': 128}], 'name': 'X2', 'Time_Series': 0, 'Categorical': 0, 'Monotonicity': 0, 'Norm': [-1, 1]}\n",
      "{'input_dim': (1000, 1), 'arch_layers': [{'Net': 'Dense', 'Val': 128}, {'Net': 'Dense', 'Val': 128}], 'name': 'X3', 'Time_Series': 0, 'Categorical': 0, 'Monotonicity': 0, 'Norm': [-1, 1]}\n"
     ]
    },
    {
     "data": {
      "text/plain": [
       "[{'C1': 1.6391277313232422e-07, 'C2': 0.9999994087219238},\n",
       " {'C1': 1.6391277313232422e-07, 'C2': 0.9999994087219238},\n",
       " {'C1': 1.6391277313232422e-07, 'C2': 0.9999994087219238}]"
      ]
     },
     "execution_count": 24,
     "metadata": {},
     "output_type": "execute_result"
    }
   ],
   "source": [
    "%run TimeNetworksV4\n",
    "self = MainEffectBlock(meta_data,meta_target,epochs=20,batch_size=250,endLayer=False)\n",
    "y=self.call(data_dict)\n",
    "self.test_calibrate()"
   ]
  },
  {
   "cell_type": "code",
   "execution_count": 123,
   "metadata": {},
   "outputs": [
    {
     "name": "stdout",
     "output_type": "stream",
     "text": [
      "(1000, 1) (1000, 3) 27\n"
     ]
    },
    {
     "data": {
      "text/plain": [
       "[{'C1': -3.799200057983399e-08, 'C2': 1.0000000164031984},\n",
       " {'C1': -1.2481212615966799e-08, 'C2': 1.000000007915497},\n",
       " {'C1': 4.310905933380127e-09, 'C2': 0.9999998556375503}]"
      ]
     },
     "execution_count": 123,
     "metadata": {},
     "output_type": "execute_result"
    }
   ],
   "source": [
    "%run TimeNetworksV3\n",
    "self = PairEffectBlock(meta_data,meta_data_pair,meta_target)\n",
    "print(self.call(data_dict).shape,self.call_outputs(data_dict).shape,len(self.trainable_variables))\n",
    "\n",
    "self.test_calibrate()"
   ]
  },
  {
   "cell_type": "code",
   "execution_count": 63,
   "metadata": {},
   "outputs": [
    {
     "name": "stdout",
     "output_type": "stream",
     "text": [
      "{'input_dim': (1000, 1), 'arch_layers': [{'Net': 'Dense', 'Val': 128}, {'Net': 'Dense', 'Val': 128}], 'name': 'X1', 'Time_Series': 0, 'Categorical': 0, 'Monotonicity': 0, 'Norm': [-1, 1]}\n",
      "{'input_dim': (1000, 1), 'arch_layers': [{'Net': 'Dense', 'Val': 128}, {'Net': 'Dense', 'Val': 128}], 'name': 'X2', 'Time_Series': 0, 'Categorical': 0, 'Monotonicity': 0, 'Norm': [-1, 1]}\n",
      "{'input_dim': (1000, 1), 'arch_layers': [{'Net': 'Dense', 'Val': 128}, {'Net': 'Dense', 'Val': 128}], 'name': 'X3', 'Time_Series': 0, 'Categorical': 0, 'Monotonicity': 0, 'Norm': [-1, 1]}\n",
      "(1000, 1) (1000, 3) 21\n",
      "trainable variables : 21 Total variable : 21\n",
      "[{'w': 0.0384896100404743, 'c': 0.09998961552977562}, {'w': 0.037882922872436185, 'c': 0.10075691133737565}, {'w': 0.037882922872436185, 'c': 0.10075691133737565}]\n"
     ]
    },
    {
     "data": {
      "image/png": "[encoded data removed]",
      "text/plain": [
       "<Figure size 640x480 with 1 Axes>"
      ]
     },
     "metadata": {},
     "output_type": "display_data"
    },
    {
     "name": "stdout",
     "output_type": "stream",
     "text": [
      "(1000, 1) (1000, 3) 27\n",
      "trainable variables : 27 Total variable : 27\n",
      "[{'w': 0.0816459983621857, 'c': 0.2601270419299603}, {'w': 0.0816459983621857, 'c': 0.2601270419299603}, {'w': 0.07450447563550504, 'c': 0.23601251632869244}]\n"
     ]
    },
    {
     "data": {
      "text/plain": [
       "{0: [[0.27635443], []], 1: [[0.22987242], []]}"
      ]
     },
     "execution_count": 63,
     "metadata": {},
     "output_type": "execute_result"
    },
    {
     "data": {
      "image/png": "[encoded data removed]",
      "text/plain": [
       "<Figure size 640x480 with 1 Axes>"
      ]
     },
     "metadata": {},
     "output_type": "display_data"
    }
   ],
   "source": [
    "%run TimeNetworksV4\n",
    "self = MainEffectBlock(meta_data,meta_target,epochs=2,batch_size=250,record=True,verbose=3)\n",
    "print(self.call(data_dict).shape,self.call_outputs(data_dict).shape,len(self.trainable_variables))\n",
    "self.Train(data_dict)\n",
    "\n",
    "plt.scatter(self.predict(data_dict),data_dict[\"target\"])\n",
    "print(self.coefficients())\n",
    "plt.show()\n",
    "\n",
    "self = PairEffectBlock(meta_data,meta_data_pair,meta_target,epochs=2,batch_size=250,record=True,verbose=3)\n",
    "print(self.call(data_dict).shape,self.call_outputs(data_dict).shape,len(self.trainable_variables))\n",
    "self.Train(data_dict)\n",
    "\n",
    "plt.scatter(self.predict(data_dict),data_dict[\"target\"])\n",
    "print(self.coefficients())\n",
    "self.Record_Losses\n"
   ]
  },
  {
   "cell_type": "code",
   "execution_count": 58,
   "metadata": {},
   "outputs": [
    {
     "data": {
      "text/plain": [
       "(2, 1)"
      ]
     },
     "execution_count": 58,
     "metadata": {},
     "output_type": "execute_result"
    }
   ],
   "source": [
    "len(np.array([[0,1],[0,1]]).shape),len(np.array([0,1]).shape)"
   ]
  },
  {
   "cell_type": "code",
   "execution_count": 74,
   "metadata": {},
   "outputs": [
    {
     "name": "stdout",
     "output_type": "stream",
     "text": [
      "{'input_dim': (1000, 1), 'arch_layers': [{'Net': 'Dense', 'Val': 128}, {'Net': 'Dense', 'Val': 128}], 'name': 'X1', 'Time_Series': 0, 'Categorical': 0, 'Monotonicity': 0, 'Norm': [-1, 1]}\n",
      "{'input_dim': (1000, 1), 'arch_layers': [{'Net': 'Dense', 'Val': 128}, {'Net': 'Dense', 'Val': 128}], 'name': 'X2', 'Time_Series': 0, 'Categorical': 0, 'Monotonicity': 0, 'Norm': [-1, 1]}\n",
      "{'input_dim': (1000, 1), 'arch_layers': [{'Net': 'Dense', 'Val': 128}, {'Net': 'Dense', 'Val': 128}], 'name': 'X3', 'Time_Series': 0, 'Categorical': 0, 'Monotonicity': 0, 'Norm': [-1, 1]}\n",
      "(1000, 1) (1000, 3) 21\n",
      "trainable variables : 21 Total variable : 21\n",
      "Epoch 15/15: 21: [[0.062261853], []]\r"
     ]
    },
    {
     "data": {
      "text/plain": [
       "{0: [[0.62223613], []],\n",
       " 1: [[0.45029798], []],\n",
       " 2: [[0.3309114], []],\n",
       " 3: [[0.24722977], []],\n",
       " 4: [[0.19575034], []],\n",
       " 5: [[0.16909881], []],\n",
       " 6: [[0.15707055], []],\n",
       " 7: [[0.15125775], []],\n",
       " 8: [[0.14470617], []],\n",
       " 9: [[0.13386907], []],\n",
       " 10: [[0.11892938], []],\n",
       " 11: [[0.102152124], []],\n",
       " 12: [[0.08613783], []],\n",
       " 13: [[0.07284092], []],\n",
       " 14: [[0.062261853], []]}"
      ]
     },
     "execution_count": 74,
     "metadata": {},
     "output_type": "execute_result"
    },
    {
     "data": {
      "image/png": "[encoded data removed]",
      "text/plain": [
       "<Figure size 640x480 with 1 Axes>"
      ]
     },
     "metadata": {},
     "output_type": "display_data"
    }
   ],
   "source": [
    "%run TimeNetworksV5\n",
    "self = MainEffectBlock(meta_data,meta_target,epochs=15,batch_size=250,record=True,verbose=3)\n",
    "print(self.call(data_dict).shape,self.call_outputs(data_dict).shape,len(self.trainable_variables))\n",
    "self.Train(data_dict)\n",
    "\n",
    "plt.scatter(self.predict(data_dict),data_dict[\"target\"])\n",
    "self.coefficients()\n",
    "self.Record_Losses"
   ]
  },
  {
   "cell_type": "code",
   "execution_count": 76,
   "metadata": {},
   "outputs": [
    {
     "name": "stdout",
     "output_type": "stream",
     "text": [
      "(1000, 1) (1000, 3) 27\n",
      "trainable variables : 27 Total variable : 27\n",
      "[{'w': 0.08044634396117471, 'c': 0.3557259154498577}, {'w': 0.08044634396117471, 'c': 0.3557259154498577}, {'w': 0.011027705741906108, 'c': 0.2682432749927044}]\n"
     ]
    },
    {
     "data": {
      "text/plain": [
       "{0: [[0.3520593], []],\n",
       " 1: [[0.20529842], []],\n",
       " 2: [[0.22622822], []],\n",
       " 3: [[0.24254335], []],\n",
       " 4: [[0.19765492], []],\n",
       " 5: [[0.13716125], []],\n",
       " 6: [[0.09825024], []],\n",
       " 7: [[0.08354575], []],\n",
       " 8: [[0.0761562], []],\n",
       " 9: [[0.06381391], []],\n",
       " 10: [[0.04913735], []],\n",
       " 11: [[0.04168133], []],\n",
       " 12: [[0.04074915], []],\n",
       " 13: [[0.036512725], []],\n",
       " 14: [[0.029404735], []]}"
      ]
     },
     "execution_count": 76,
     "metadata": {},
     "output_type": "execute_result"
    },
    {
     "data": {
      "image/png": "[encoded data removed]",
      "text/plain": [
       "<Figure size 640x480 with 1 Axes>"
      ]
     },
     "metadata": {},
     "output_type": "display_data"
    }
   ],
   "source": [
    "%run TimeNetworksV5\n",
    "self = PairEffectBlock(meta_data,meta_data_pair,meta_target,epochs=15,batch_size=250,record=True,verbose=3)\n",
    "print(self.call(data_dict).shape,self.call_outputs(data_dict).shape,len(self.trainable_variables))\n",
    "self.Train(data_dict)\n",
    "\n",
    "plt.scatter(self.predict(data_dict),data_dict[\"target\"])\n",
    "print(self.coefficients())\n",
    "self.Record_Losses"
   ]
  },
  {
   "cell_type": "code",
   "execution_count": 68,
   "metadata": {},
   "outputs": [
    {
     "ename": "AttributeError",
     "evalue": "'GAMI' object has no attribute 'compute_feature_importance_var'",
     "output_type": "error",
     "traceback": [
      "\u001b[1;31m---------------------------------------------------------------------------\u001b[0m",
      "\u001b[1;31mAttributeError\u001b[0m                            Traceback (most recent call last)",
      "Cell \u001b[1;32mIn[68], line 2\u001b[0m\n\u001b[0;32m      1\u001b[0m \u001b[38;5;66;03m# display(self.get_weights(data_dict))\u001b[39;00m\n\u001b[1;32m----> 2\u001b[0m display(pd\u001b[38;5;241m.\u001b[39mDataFrame(\u001b[38;5;28mself\u001b[39m\u001b[38;5;241m.\u001b[39mcompute_feature_importance_var(data_dict),index\u001b[38;5;241m=\u001b[39m[\u001b[38;5;124m\"\u001b[39m\u001b[38;5;124mImportance\u001b[39m\u001b[38;5;124m\"\u001b[39m])\u001b[38;5;241m.\u001b[39mT)\n\u001b[0;32m      3\u001b[0m display(pd\u001b[38;5;241m.\u001b[39mDataFrame(\u001b[38;5;28mself\u001b[39m\u001b[38;5;241m.\u001b[39mcompute_feature_importance_mean(data_dict),index\u001b[38;5;241m=\u001b[39m[\u001b[38;5;124m\"\u001b[39m\u001b[38;5;124mImportance\u001b[39m\u001b[38;5;124m\"\u001b[39m])\u001b[38;5;241m.\u001b[39mT)\n\u001b[0;32m      4\u001b[0m display(pd\u001b[38;5;241m.\u001b[39mDataFrame(\u001b[38;5;28mself\u001b[39m\u001b[38;5;241m.\u001b[39mcompute_feature_partial_loss(data_dict),index\u001b[38;5;241m=\u001b[39m[\u001b[38;5;124m\"\u001b[39m\u001b[38;5;124mImportance\u001b[39m\u001b[38;5;124m\"\u001b[39m])\u001b[38;5;241m.\u001b[39mT)\n",
      "\u001b[1;31mAttributeError\u001b[0m: 'GAMI' object has no attribute 'compute_feature_importance_var'"
     ]
    }
   ],
   "source": [
    "# display(self.get_weights(data_dict))\n",
    "display(pd.DataFrame(self.compute_feature_importance_var(data_dict),index=[\"Importance\"]).T)\n",
    "display(pd.DataFrame(self.compute_feature_importance_mean(data_dict),index=[\"Importance\"]).T)\n",
    "display(pd.DataFrame(self.compute_feature_partial_loss(data_dict),index=[\"Importance\"]).T)"
   ]
  },
  {
   "cell_type": "code",
   "execution_count": 83,
   "metadata": {},
   "outputs": [
    {
     "name": "stdout",
     "output_type": "stream",
     "text": [
      "{'input_dim': (1000, 1), 'arch_layers': [{'Net': 'Dense', 'Val': 128}, {'Net': 'Dense', 'Val': 128}], 'name': 'X1', 'Time_Series': 0, 'Categorical': 0, 'Monotonicity': 0, 'Norm': [-1, 1]}\n",
      "{'input_dim': (1000, 1), 'arch_layers': [{'Net': 'Dense', 'Val': 128}, {'Net': 'Dense', 'Val': 128}], 'name': 'X2', 'Time_Series': 0, 'Categorical': 0, 'Monotonicity': 0, 'Norm': [-1, 1]}\n",
      "{'input_dim': (1000, 1), 'arch_layers': [{'Net': 'Dense', 'Val': 128}, {'Net': 'Dense', 'Val': 128}], 'name': 'X3', 'Time_Series': 0, 'Categorical': 0, 'Monotonicity': 0, 'Norm': [-1, 1]}\n",
      "MB: 21 PB: 0 All: 21   \n",
      "Epoch 1/[6, 6, 6]: 21: [[0.16776662], []]\n",
      "Epoch 2/[6, 6, 6]: 21: [[0.26243106], []]\n",
      "Epoch 3/[6, 6, 6]: 21: [[0.14157318], []]\n",
      "Epoch 4/[6, 6, 6]: 21: [[0.070738085], []]\n",
      "Epoch 5/[6, 6, 6]: 21: [[0.0644411], []]\n",
      "Epoch 6/[6, 6, 6]: 21: [[0.047597226], []]\n",
      "Epoch 6/[6, 6, 6]: 21: [[0.047597226], []]\n",
      "MB: 0 PB: 27 All: 27   \n",
      "Epoch 1/[6, 6, 6]: 27: [[0.03154538], []]\n",
      "Epoch 2/[6, 6, 6]: 27: [[0.022703797], []]\n",
      "Epoch 3/[6, 6, 6]: 27: [[0.020994829], []]\n",
      "Epoch 4/[6, 6, 6]: 27: [[0.026254438], []]\n",
      "Epoch 5/[6, 6, 6]: 27: [[0.038225353], []]\n",
      "Epoch 6/[6, 6, 6]: 27: [[0.056552123], []]\n",
      "Epoch 6/[6, 6, 6]: 27: [[0.056552123], []]\n",
      "MB: 21 PB: 27 All: 48   \n",
      "Epoch 1/[6, 6, 6]: 48: [[0.016841548], []]\n",
      "Epoch 2/[6, 6, 6]: 48: [[0.013297096], []]\n",
      "Epoch 3/[6, 6, 6]: 48: [[0.01995192], []]\n",
      "Epoch 4/[6, 6, 6]: 48: [[0.018911969], []]\n",
      "Epoch 5/[6, 6, 6]: 48: [[0.012672145], []]\n",
      "Epoch 6/[6, 6, 6]: 48: [[0.00803081], []]\n",
      "Epoch 6/[6, 6, 6]: 48: [[0.00803081], []]\n",
      "CPU times: total: 2.11 s\n",
      "Wall time: 5.92 s\n"
     ]
    }
   ],
   "source": [
    "%%time\n",
    "%run TimeNetworksV5\n",
    "            \n",
    "self=GAMI(meta_data=meta_data,meta_target=meta_target,  meta_data_pair=meta_data_pair, epochs=[6]*3, \n",
    "          batch_size = 250,  task_type=\"Regression\",learning_rate=[0.005,0.005,0.001])\n",
    "\n",
    "\n",
    "\n",
    "self.Train(data_dict, 0)  \n",
    "self.Train(data_dict, 1)  \n",
    "self.Train(data_dict, 2)  "
   ]
  },
  {
   "cell_type": "code",
   "execution_count": 65,
   "metadata": {},
   "outputs": [],
   "source": [
    "input_file = \"TimeNetworksV4.py\"\n",
    "output_file = \"TimeNetworksV5.py\"\n",
    "\n",
    "with open(input_file, \"r\") as infile, open(output_file, \"w\") as outfile:\n",
    "    for line in infile:\n",
    "        # Strip leading/trailing whitespace and check if the line contains a comment\n",
    "        stripped_line = line.strip()\n",
    "        if not stripped_line.startswith(\"#\") and \"#\" not in stripped_line.split(\"#\", 1)[0]:\n",
    "            outfile.write(line)"
   ]
  },
  {
   "cell_type": "code",
   "execution_count": 137,
   "metadata": {},
   "outputs": [
    {
     "name": "stdout",
     "output_type": "stream",
     "text": [
      "MB: 26 PB: 25 All: 52   \n",
      "CPU times: total: 9.5 s: [[2.7944227e-05], []]\n",
      "Wall time: 18.5 s\n"
     ]
    },
    {
     "data": {
      "text/plain": [
       "<matplotlib.collections.PathCollection at 0x1dcb7f8da30>"
      ]
     },
     "execution_count": 137,
     "metadata": {},
     "output_type": "execute_result"
    },
    {
     "data": {
      "image/png": "[encoded data removed]",
      "text/plain": [
       "<Figure size 640x480 with 1 Axes>"
      ]
     },
     "metadata": {},
     "output_type": "display_data"
    }
   ],
   "source": [
    "%%time\n",
    "%run TimeNetworksV2\n",
    "            \n",
    "self=GAMI(meta_data=meta_data,meta_target=meta_target,  meta_data_pair=meta_data_pair, epochs=[25,5,5], \n",
    "          batch_size = 250,  task_type=\"Regression\",learning_rate=[0.005,0.005,0.001])\n",
    "\n",
    "self.Train(data_dict,0)  \n",
    "# self.Train(df_dict,1)  \n",
    "\n",
    "self.call(data_dict)  \n",
    "\n",
    "plt.scatter(self.call(data_dict).numpy(),data_dict[\"target\"])"
   ]
  },
  {
   "cell_type": "code",
   "execution_count": 132,
   "metadata": {},
   "outputs": [
    {
     "data": {
      "text/plain": [
       "{'Coefficients': {'X1': -0.008801493,\n",
       "  'X2': -0.041670047,\n",
       "  'X3': 0.038311772,\n",
       "  'X4': -0.04003293},\n",
       " 'Bias': 0.00317195}"
      ]
     },
     "execution_count": 132,
     "metadata": {},
     "output_type": "execute_result"
    }
   ],
   "source": [
    "self.MB.get_weights()"
   ]
  },
  {
   "cell_type": "code",
   "execution_count": 79,
   "metadata": {},
   "outputs": [
    {
     "data": {
      "text/plain": [
       "array([0.85199314, 0.85199314, 0.85199314, ..., 0.85199314, 0.85199314,\n",
       "       0.85199314], dtype=float32)"
      ]
     },
     "execution_count": 79,
     "metadata": {},
     "output_type": "execute_result"
    }
   ],
   "source": [
    "self.call(data_dict).numpy()"
   ]
  },
  {
   "cell_type": "code",
   "execution_count": 25,
   "metadata": {},
   "outputs": [
    {
     "data": {
      "text/plain": [
       "(<tf.Tensor: shape=(5, 1), dtype=float32, numpy=\n",
       " array([[0.0003187],\n",
       "        [0.0003187],\n",
       "        [0.0003187],\n",
       "        [0.0003187],\n",
       "        [0.0003187]], dtype=float32)>,\n",
       " array([-0.13953962, -0.15388299, -0.20907761, -0.15046834, -0.20017114]))"
      ]
     },
     "execution_count": 25,
     "metadata": {},
     "output_type": "execute_result"
    }
   ],
   "source": []
  },
  {
   "cell_type": "code",
   "execution_count": 201,
   "metadata": {},
   "outputs": [
    {
     "data": {
      "text/plain": [
       "['X0', 'X1', 'X2']"
      ]
     },
     "execution_count": 201,
     "metadata": {},
     "output_type": "execute_result"
    }
   ],
   "source": [
    "# develop meta_data\n",
    "\n",
    "meta_data = {}; i=-1\n",
    "\n",
    "# i = i + 1; var = f\"X{i}\"\n",
    "# category_num = 1\n",
    "# Time_Series = False\n",
    "# Categorical=True\n",
    "# input_dim = (1,)\n",
    "# meta_data[var] = {\"input_dim\": input_dim, \"arch_layers\": arch_layers_categ, \"name\": var, \"Time_Series\": Time_Series,\"Categorical\":Categorical}\n",
    "\n",
    "# i = i + 1; var = f\"X{i}\"\n",
    "# category_num = 1\n",
    "# Time_Series = False\n",
    "# Categorical=True\n",
    "# input_dim = (1,)\n",
    "# meta_data[var] = {\"input_dim\": input_dim, \"arch_layers\": arch_layers_categ, \"name\": var, \"Time_Series\": Time_Series,\"Categorical\":Categorical}\n",
    "\n",
    "i = i + 1; var = f\"X{i}\"\n",
    "category_num = 1\n",
    "Time_Series = False\n",
    "Categorical=False\n",
    "input_dim = (category_num,)\n",
    "meta_data[var] = {\"input_dim\": input_dim, \"arch_layers\": arch_layers_number, \"name\": var, \"Time_Series\": Time_Series,\"Categorical\":Categorical}\n",
    "\n",
    "i = i + 1; var = f\"X{i}\"\n",
    "Time_Series = False\n",
    "Categorical=False\n",
    "input_dim = (category_num,)\n",
    "meta_data[var] = {\"input_dim\": input_dim, \"arch_layers\": arch_layers_number, \"name\": var, \"Time_Series\": Time_Series,\"Categorical\":Categorical}\n",
    "\n",
    "\n",
    "i = i + 1; var = f\"X{i}\"\n",
    "Time_Series = False\n",
    "Categorical=False\n",
    "input_dim = (category_num,)\n",
    "meta_data[var] = {\"input_dim\": input_dim, \"arch_layers\": arch_layers_number, \"name\": var, \"Time_Series\": Time_Series,\"Categorical\":Categorical}\n",
    "\n",
    "# i = i + 1; var = f\"X{i}\"\n",
    "# category_num = 8\n",
    "# Time_Series = True\n",
    "# Categorical=False\n",
    "# input_dim = (category_num,1)\n",
    "# meta_data[var] = {\"input_dim\": input_dim, \"arch_layers\": arch_layers_time, \"name\": var, \"Time_Series\": Time_Series,\"Categorical\":Categorical}\n",
    "\n",
    "# i = i + 1; var = f\"X{i}\"\n",
    "# category_num = 8\n",
    "# Time_Series = True\n",
    "# Categorical=True\n",
    "# input_dim = (category_num,1)\n",
    "# meta_data[var] = {\"input_dim\": input_dim, \"arch_layers\": arch_layers_time, \"name\": var, \"Time_Series\": Time_Series,\"Categorical\":Categorical}\n",
    "\n",
    "list(meta_data)"
   ]
  },
  {
   "cell_type": "code",
   "execution_count": null,
   "metadata": {},
   "outputs": [],
   "source": [
    "tfk.initializers.RandomUniform"
   ]
  },
  {
   "cell_type": "code",
   "execution_count": 4,
   "metadata": {},
   "outputs": [],
   "source": [
    "# develop meta_data\n",
    "\n",
    "meta_data = {}; i=-1\n",
    "\n",
    "# i = i + 1; var = f\"X{i}\"\n",
    "# category_num = 1\n",
    "# Time_Series = False\n",
    "# Categorical=True\n",
    "# input_dim = (1,)\n",
    "# meta_data[var] = {\"input_dim\": input_dim, \"arch_layers\": arch_layers_categ, \"name\": var, \"Time_Series\": Time_Series,\"Categorical\":Categorical}\n",
    "\n",
    "# i = i + 1; var = f\"X{i}\"\n",
    "# category_num = 1\n",
    "# Time_Series = False\n",
    "# Categorical=True\n",
    "# input_dim = (1,)\n",
    "# meta_data[var] = {\"input_dim\": input_dim, \"arch_layers\": arch_layers_categ, \"name\": var, \"Time_Series\": Time_Series,\"Categorical\":Categorical}\n",
    "\n",
    "i = i + 1; var = f\"X{i}\"\n",
    "category_num = 1\n",
    "Time_Series = False\n",
    "Categorical=False\n",
    "input_dim = (category_num,)\n",
    "meta_data[var] = {\"input_dim\": input_dim, \"arch_layers\": arch_layers_number, \"name\": var, \"Time_Series\": Time_Series,\"Categorical\":Categorical}\n",
    "\n",
    "i = i + 1; var = f\"X{i}\"\n",
    "category_num = 3\n",
    "Time_Series = False\n",
    "Categorical=False\n",
    "input_dim = (category_num,)\n",
    "meta_data[var] = {\"input_dim\": input_dim, \"arch_layers\": arch_layers_number, \"name\": var, \"Time_Series\": Time_Series,\"Categorical\":Categorical}\n",
    "\n",
    "\n",
    "i = i + 1; var = f\"X{i}\"\n",
    "category_num = 6\n",
    "Time_Series = False\n",
    "Categorical=False\n",
    "input_dim = (category_num,)\n",
    "meta_data[var] = {\"input_dim\": input_dim, \"arch_layers\": arch_layers_number, \"name\": var, \"Time_Series\": Time_Series,\"Categorical\":Categorical}\n",
    "\n",
    "# i = i + 1; var = f\"X{i}\"\n",
    "# category_num = 8\n",
    "# Time_Series = True\n",
    "# Categorical=False\n",
    "# input_dim = (category_num,1)\n",
    "# meta_data[var] = {\"input_dim\": input_dim, \"arch_layers\": arch_layers_time, \"name\": var, \"Time_Series\": Time_Series,\"Categorical\":Categorical}\n",
    "\n",
    "# i = i + 1; var = f\"X{i}\"\n",
    "# category_num = 8\n",
    "# Time_Series = True\n",
    "# Categorical=True\n",
    "# input_dim = (category_num,1)\n",
    "# meta_data[var] = {\"input_dim\": input_dim, \"arch_layers\": arch_layers_time, \"name\": var, \"Time_Series\": Time_Series,\"Categorical\":Categorical}\n",
    "\n",
    "list(meta_data)\n",
    "\n",
    "\n",
    "\n",
    "interactions=[[\"X0\",\"X1\"],[\"X2\",\"X0\"],[\"X1\",\"X2\"]]\n",
    "\n",
    "\n",
    "meta_data_pair = {}\n",
    "\n",
    "var0, var1 = interactions[0]\n",
    "arch_layers2 = [{\"Net\": \"Dense\", \"Val\": 256,  \"Norm\": [-1,1]}]\n",
    "\n",
    "meta_data_pair[f\"{var0} x {var1}\"] = {\n",
    "    \"input_dim\": [meta_data[var][\"input_dim\"] for var in [var0, var1]],\n",
    "    \"name\": [meta_data[var][\"name\"] for var in [var0, var1]],\n",
    "    \"arch_layers\": [meta_data[var][\"arch_layers\"][:-1] for var in [var0, var1]] + [arch_layers2],\n",
    "    \"Time_Series\": [meta_data[var][\"Time_Series\"] for var in [var0, var1]],\n",
    "}\n",
    "\n",
    "var0, var1 = interactions[1]\n",
    "arch_layers2 = [{\"Net\": \"Dense\", \"Val\": 256, \"Norm\": [-1,1]}]\n",
    "\n",
    "meta_data_pair[f\"{var0} x {var1}\"]  = {\n",
    "    \"input_dim\": [meta_data[var][\"input_dim\"] for var in [var0, var1]],\n",
    "    \"name\": [meta_data[var][\"name\"] for var in [var0, var1]],\n",
    "    \"arch_layers\": [meta_data[var][\"arch_layers\"][:-1] for var in [var0, var1]] + [arch_layers2],\n",
    "    \"Time_Series\": [meta_data[var][\"Time_Series\"] for var in [var0, var1]],\n",
    "}\n",
    "\n",
    "var0, var1 = interactions[2]\n",
    "arch_layers2 = [{\"Net\": \"Dense\", \"Val\": 256, \"Norm\": [-1,1]}]\n",
    "meta_data_pair[f\"{var0} x {var1}\"]  = {\n",
    "    \"input_dim\": [meta_data[var][\"input_dim\"] for var in [var0, var1]],\n",
    "    \"name\": [meta_data[var][\"name\"] for var in [var0, var1]],\n",
    "    \"arch_layers\": [meta_data[var][\"arch_layers\"][:-1] for var in [var0, var1]] + [arch_layers2],\n",
    "    \"Time_Series\": [meta_data[var][\"Time_Series\"] for var in [var0, var1]],\n",
    "}\n",
    "\n",
    "def generate_data_from_meta_data(meta_data):\n",
    "    data = {};\n",
    "    for var in meta_data:\n",
    "        input_dim=meta_data[var][\"input_dim\"][0]\n",
    "            \n",
    "        if meta_data[var][\"Time_Series\"]:\n",
    "            d = np.random.uniform(0, 1, [num_samples, input_dim,1]);\n",
    "        elif meta_data[var][\"Categorical\"]:\n",
    "            d = np.random.uniform(0, 1, [num_samples, 1]);\n",
    "            d = (d * input_dim).astype(int)    +1\n",
    "        else:\n",
    "            d = np.random.uniform(0, 1, [num_samples, input_dim]);\n",
    "        data[var] = d\n",
    "        # print(var,category_num)\n",
    "    return data\n",
    "def F1(x,m,c,n):\n",
    "    if n==0:\n",
    "        u= x    \n",
    "    if n==1:\n",
    "        u= x+x**2/2\n",
    "    if n==1:\n",
    "        u= np.exp(-np.abs(x))*x\n",
    "    if n==1:\n",
    "        u= x\n",
    "    if n==1:\n",
    "        u= x*np.log(np.abs(x)+0.001)\n",
    "    if n==1:\n",
    "        u= x/(np.abs(x)+0.001)\n",
    "    if n==1:\n",
    "        u= x+0.5*x*np.sin(x*np.pi/16)+x\n",
    "    y=np.ravel(np.dot(m.T,x.T).T);\n",
    "    y=y/np.nanmax(np.abs(y))+c\n",
    "    return y\n",
    "\n",
    "def F2(X,M,c,n=0):\n",
    "    [x0,x1]=X\n",
    "    [m0,m1]=M        \n",
    "    y0=np.ravel(np.dot(m0.T,x0.T).T);\n",
    "    y1=np.ravel(np.dot(m1.T,x1.T).T);        \n",
    "    if n==0:            \n",
    "        y=(y0+y1)+c\n",
    "        y=y/np.max(np.abs(y))+c\n",
    "    if n==1:\n",
    "        y=(y0+y1)**2+c\n",
    "        y=y/np.max(np.abs(y))+c\n",
    "    if n==2:\n",
    "        y=np.abs(y0+y1)+c\n",
    "        y=y/np.max(np.abs(y))+c\n",
    "    return y"
   ]
  },
  {
   "cell_type": "code",
   "execution_count": 53,
   "metadata": {},
   "outputs": [],
   "source": [
    "# Generate Data\n",
    "\n",
    "data=generate_data_from_meta_data(meta_data)\n",
    "\n",
    "Y=0\n",
    "coeff1={}\n",
    "W=np.random.uniform(0,1,num_samples)\n",
    "C=np.random.uniform(-1,1)\n",
    "for n,var in enumerate(list(meta_data)):   \n",
    "    c = np.random.uniform(-1, 1, )\n",
    "    m=np.random.uniform(0,1,data[var].shape[1:]).reshape(-1,1); \n",
    "    x=data[var];\n",
    "    Y=Y+F1(x,m,c,n)    \n",
    "    coeff1[var]={\"m\":m,\"c\":c}\n",
    "\n",
    "n=-1\n",
    "coeff2={}\n",
    "for V0,V1 in interactions :\n",
    "    n = n+1\n",
    "    c = np.random.uniform(-1, 1, )\n",
    "    M=[np.random.uniform(0,1,data[V0].shape[1:]).reshape(-1,1), np.random.uniform(0,1,data[V1].shape[1:]).reshape(-1,1)]\n",
    "    X=[data[V0],data[V1]]\n",
    "    Y=Y+F2(X,M,c,n)\n",
    "    coeff2[f\"{V0} x {V1}\"]={\"m\":M,\"c\":c}\n",
    "    \n",
    "u=np.mean(Y)\n",
    "Y=Y-u\n",
    "\n",
    "\n",
    "W=np.random.uniform(0,1,num_samples)\n",
    "\n",
    "i_list=[i for i in range(num_samples)]\n",
    "np.random.shuffle(i_list)\n",
    "i_list=i_list\n",
    "\n",
    "data[\"target\"]=Y.reshape(1,-1)[0]\n",
    "data[\"weight\"]=W.reshape(1,-1)[0]"
   ]
  },
  {
   "cell_type": "code",
   "execution_count": 54,
   "metadata": {},
   "outputs": [],
   "source": [
    "# data engineering\n",
    "df_dict={}\n",
    "\n",
    "df_dict[\"target\"]=data[\"target\"]\n",
    "df_dict[\"weight\"]=data[\"weight\"]\n",
    "for var in meta_data:\n",
    "    \n",
    "    if meta_data[var]['Time_Series']:\n",
    "        e=(data[var][:,:,0])\n",
    "        enc=MinMaxScaler()        \n",
    "        df_dict[var]=enc.fit_transform(e).reshape((e.shape[0],e.shape[1],-1))\n",
    "    \n",
    "    elif meta_data[var]['Categorical']:\n",
    "        enc=IdentityEncoder()\n",
    "        df_dict[var]=enc.fit_transform(data[var])\n",
    "        meta_data[var]['Encoder']=enc\n",
    "    else :\n",
    "        enc=MinMaxScaler()\n",
    "        df_dict[var]=enc.fit_transform(data[var])\n",
    "        meta_data[var]['Encoder']=enc\n",
    "\n",
    "meta_target={\"target\":\"target\",\"weight\":\"weight\", \"train\":i_list[:int(num_samples*.7)],\n",
    "             \"valid\":[ i_list[int(num_samples*.7):],i_list[int(num_samples*.4):int(num_samples*.8)], ]}\n",
    "meta_target={\"target\":\"target\",\"weight\":\"weight\", \"train\":i_list[:int(num_samples*.7)],\n",
    "             \"valid\":[  ]}"
   ]
  },
  {
   "cell_type": "markdown",
   "metadata": {},
   "source": [
    "# Test Networks"
   ]
  },
  {
   "cell_type": "code",
   "execution_count": 25,
   "metadata": {},
   "outputs": [],
   "source": [
    "%run NetworksV5\n",
    "            \n",
    "self=GAMI(meta_data=meta_data,meta_target=meta_target, meta_data_pair=meta_data_pair, epochs=3, batch_size = 256, task_type=\"Regression\")\n",
    "self.call(df_dict)\n",
    "self.MB.get_weights(),self.PB.get_weights();"
   ]
  },
  {
   "cell_type": "code",
   "execution_count": 39,
   "metadata": {},
   "outputs": [
    {
     "data": {
      "text/plain": [
       "<tf.Tensor: shape=(10000,), dtype=float32, numpy=\n",
       "array([0.01420535, 0.01420535, 0.01420535, ..., 0.01420535, 0.01420535,\n",
       "       0.01420535], dtype=float32)>"
      ]
     },
     "execution_count": 39,
     "metadata": {},
     "output_type": "execute_result"
    }
   ],
   "source": []
  },
  {
   "cell_type": "code",
   "execution_count": 35,
   "metadata": {},
   "outputs": [
    {
     "data": {
      "text/plain": [
       "array([-0.18561227, -0.44247532, -0.10503811, ...,  0.55801017,\n",
       "       -0.9498207 ,  0.00575359])"
      ]
     },
     "execution_count": 35,
     "metadata": {},
     "output_type": "execute_result"
    }
   ],
   "source": [
    "df_dict['target']"
   ]
  },
  {
   "cell_type": "code",
   "execution_count": 336,
   "metadata": {},
   "outputs": [
    {
     "name": "stdout",
     "output_type": "stream",
     "text": [
      "MB: 40 PB: 19 All: 59   \n",
      "Epoch 1/[5, 5, 5]: 40: [[105242350.0], []]\n",
      "Epoch 2/[5, 5, 5]: 40: [[98962540.0], []]\n",
      "Epoch 3/[5, 5, 5]: 40: [[96058040.0], []]\n",
      "Epoch 4/[5, 5, 5]: 40: [[94422200.0], []]\n",
      "Epoch 5/[5, 5, 5]: 40: [[93372460.0], []]\n",
      "MB: 40 PB: 0 All: 40   \n",
      "Epoch 1/[5, 5, 5]: 19: [[93221064.0], []]\n",
      "Epoch 2/[5, 5, 5]: 19: [[92639820.0], []]\n",
      "Epoch 3/[5, 5, 5]: 19: [[91368430.0], []]\n",
      "Epoch 4/[5, 5, 5]: 19: [[89175544.0], []]\n",
      "Epoch 5/[5, 5, 5]: 19: [[85848420.0], []]\n",
      "MB: 0 PB: 19 All: 19   \n",
      "Epoch 1/[5, 5, 5]: 59: [[79683920.0], []]\n",
      "Epoch 2/[5, 5, 5]: 59: [[73301740.0], []]\n",
      "Epoch 3/[5, 5, 5]: 59: [[67933800.0], []]\n",
      "Epoch 4/[5, 5, 5]: 59: [[63253730.0], []]\n",
      "Epoch 5/[5, 5, 5]: 59: [[58787320.0], []]\n"
     ]
    },
    {
     "data": {
      "image/png": "[encoded data removed]",
      "text/plain": [
       "<Figure size 640x480 with 1 Axes>"
      ]
     },
     "metadata": {},
     "output_type": "display_data"
    },
    {
     "name": "stdout",
     "output_type": "stream",
     "text": [
      "CPU times: total: 44.5 s\n",
      "Wall time: 1min 14s\n"
     ]
    },
    {
     "data": {
      "text/plain": [
       "<matplotlib.collections.PathCollection at 0x21731dbbef0>"
      ]
     },
     "execution_count": 336,
     "metadata": {},
     "output_type": "execute_result"
    },
    {
     "data": {
      "image/png": "[encoded data removed]",
      "text/plain": [
       "<Figure size 640x480 with 1 Axes>"
      ]
     },
     "metadata": {},
     "output_type": "display_data"
    }
   ],
   "source": [
    "%%time\n",
    "%run NetworksV5\n",
    "            \n",
    "self=GAMI(meta_data=meta_data,meta_target=meta_target, \n",
    "          meta_data_pair=meta_data_pair, epochs=[5,5,5], batch_size = 1000,\n",
    "                 task_type=\"Regression\",learning_rate=[0.005,0.005,0.001])\n",
    "\n",
    "self.Train(df_dict,0)  \n",
    "self.Train(df_dict,1)  \n",
    "self.Train(df_dict,2)  \n",
    "# self.Train(df_dict,2)  \n",
    "# self.Train_PairEffect(data)     \n",
    "# self.Train(df_dict,2)  \n",
    "# self.Train_PairEffect(data)     \n",
    "for k in [0,]:\n",
    "       j=0;c=0\n",
    "       plt.plot([i+c for i in self.Record_Losses[0]], [self.Record_Losses[0][i][k][0]  for i in self.Record_Losses[0]])\n",
    "       j=1; c=c+len(self.Record_Losses[j-1])\n",
    "       plt.plot([i+c-1 for i in self.Record_Losses[j]], [self.Record_Losses[j][i][k][0]  for i in self.Record_Losses[j]])\n",
    "       j=2; c=c+len(self.Record_Losses[j-1])\n",
    "       plt.plot([i+c-2 for i in self.Record_Losses[j]], [self.Record_Losses[j][i][k][0]  for i in self.Record_Losses[j]])\n",
    "       # j=2; c=c+len(self.Record_Losses[j])\n",
    "       # plt.plot([i+c-1 for i in self.Record_Losses[j]], [self.Record_Losses[j][i][0][0]  for i in self.Record_Losses[j]])\n",
    "plt.show()\n",
    "plt.scatter(self.predict(df_dict).numpy(),df_dict['target'])"
   ]
  },
  {
   "cell_type": "code",
   "execution_count": 301,
   "metadata": {},
   "outputs": [
    {
     "data": {
      "text/plain": [
       "(({'X0': 0.031215204,\n",
       "   'X1': 0.031215204,\n",
       "   'X2': 0.7609417,\n",
       "   'X3': 0.24477129,\n",
       "   'X4': 0.21568896,\n",
       "   'X5': 0.21932459},\n",
       "  {'X0': 8.881784e-16,\n",
       "   'X1': 8.881784e-16,\n",
       "   'X2': 0.5029504,\n",
       "   'X3': 0.072010905,\n",
       "   'X4': 0.011573848,\n",
       "   'X5': 0.0112948185}),\n",
       " ({('X0', 'X1'): 0.0, ('X2', 'X3'): 0.025040006, ('X1', 'X2'): 0.013158798},\n",
       "  {('X0', 'X1'): 0.0,\n",
       "   ('X2', 'X3'): 0.00018369817,\n",
       "   ('X1', 'X2'): 2.3831028e-05}))"
      ]
     },
     "execution_count": 301,
     "metadata": {},
     "output_type": "execute_result"
    }
   ],
   "source": [
    "\n",
    "compute_feature_importance(self, df_dict),compute_pair_importance(self, df_dict)"
   ]
  },
  {
   "cell_type": "code",
   "execution_count": 303,
   "metadata": {},
   "outputs": [
    {
     "data": {
      "text/plain": [
       "array([1.0209904 , 1.0209904 , 1.0317458 , 1.006962  , 0.96827227,\n",
       "       0.967854  ], dtype=float32)"
      ]
     },
     "execution_count": 303,
     "metadata": {},
     "output_type": "execute_result"
    }
   ],
   "source": [
    "wgts=[np.ravel(c.numpy()) for c in self.MB.Output_Layer.variables][0]\n",
    "MB\n",
    "for var in "
   ]
  },
  {
   "cell_type": "code",
   "execution_count": 270,
   "metadata": {},
   "outputs": [
    {
     "data": {
      "text/plain": [
       "[array([ 0.        ,  0.19069625, -0.01428955], dtype=float32)]"
      ]
     },
     "execution_count": 270,
     "metadata": {},
     "output_type": "execute_result"
    }
   ],
   "source": [
    "[np.ravel(c.numpy()) for c in self.PB.Output_Layer.variables]"
   ]
  },
  {
   "cell_type": "code",
   "execution_count": 278,
   "metadata": {},
   "outputs": [
    {
     "data": {
      "text/plain": [
       "[array([[-0.04575037],\n",
       "        [ 0.05358365],\n",
       "        [ 0.00536062]], dtype=float32)]"
      ]
     },
     "execution_count": 278,
     "metadata": {},
     "output_type": "execute_result"
    }
   ],
   "source": [
    "[c.numpy() for c in self.PB.Output_Layer.variables]"
   ]
  },
  {
   "cell_type": "code",
   "execution_count": 267,
   "metadata": {},
   "outputs": [
    {
     "data": {
      "text/plain": [
       "0.9999998"
      ]
     },
     "execution_count": 267,
     "metadata": {},
     "output_type": "execute_result"
    }
   ],
   "source": [
    "e=[c.numpy() for c in self.MB.MainEffect_Block_Networks[\"X1\"].Hidden_Layers[-1].variables]\n",
    "\n",
    "np.linalg.norm(np.ravel(e[0]))"
   ]
  },
  {
   "cell_type": "code",
   "execution_count": 266,
   "metadata": {},
   "outputs": [
    {
     "data": {
      "text/plain": [
       "array([[ 2.85518151e-02],\n",
       "       [-2.97469255e-02],\n",
       "       [-1.91732589e-02],\n",
       "       [-3.70719917e-02],\n",
       "       [-1.62920460e-01],\n",
       "       [-5.96251413e-02],\n",
       "       [ 8.83081704e-02],\n",
       "       [ 3.13103534e-02],\n",
       "       [-2.52663903e-02],\n",
       "       [ 1.98047087e-02],\n",
       "       [-1.69707034e-02],\n",
       "       [-1.90135650e-02],\n",
       "       [ 2.78808158e-02],\n",
       "       [ 5.87043688e-02],\n",
       "       [ 5.87469302e-02],\n",
       "       [ 3.93510908e-02],\n",
       "       [-3.73445153e-02],\n",
       "       [-2.26959437e-02],\n",
       "       [ 3.61075699e-02],\n",
       "       [-5.46765067e-02],\n",
       "       [-8.42039939e-03],\n",
       "       [-1.24582034e-02],\n",
       "       [-2.40156539e-02],\n",
       "       [-2.77893525e-02],\n",
       "       [ 2.71604955e-02],\n",
       "       [-1.59778092e-02],\n",
       "       [ 2.49703210e-02],\n",
       "       [-7.45558739e-02],\n",
       "       [-9.09108743e-02],\n",
       "       [-1.00554386e-02],\n",
       "       [-1.13983722e-02],\n",
       "       [ 4.82052267e-02],\n",
       "       [ 6.41609952e-02],\n",
       "       [-1.31681757e-02],\n",
       "       [-2.08613393e-03],\n",
       "       [-3.48127075e-02],\n",
       "       [-6.69435859e-02],\n",
       "       [ 7.85099342e-02],\n",
       "       [ 5.67800961e-02],\n",
       "       [ 3.86726484e-02],\n",
       "       [-7.18009695e-02],\n",
       "       [ 1.49474144e-02],\n",
       "       [ 1.19851954e-01],\n",
       "       [-6.78208396e-02],\n",
       "       [-6.97690845e-02],\n",
       "       [ 5.42612188e-02],\n",
       "       [-2.74668373e-02],\n",
       "       [-1.42528042e-02],\n",
       "       [ 7.73097761e-03],\n",
       "       [-4.39130291e-02],\n",
       "       [-1.18154269e-02],\n",
       "       [ 5.67198452e-03],\n",
       "       [-1.18474483e-01],\n",
       "       [-6.47292137e-02],\n",
       "       [ 6.31666626e-04],\n",
       "       [ 1.31527684e-03],\n",
       "       [-1.35705069e-01],\n",
       "       [-2.45630872e-02],\n",
       "       [-4.38157618e-02],\n",
       "       [ 6.77824095e-02],\n",
       "       [ 2.17238013e-02],\n",
       "       [-1.01290178e-02],\n",
       "       [ 8.17631409e-02],\n",
       "       [-6.67473003e-02],\n",
       "       [ 5.69044519e-03],\n",
       "       [-3.00605372e-02],\n",
       "       [-4.95449118e-02],\n",
       "       [ 7.76154920e-02],\n",
       "       [-5.31230494e-02],\n",
       "       [ 1.78755969e-02],\n",
       "       [-3.77334952e-02],\n",
       "       [ 6.35385886e-02],\n",
       "       [-7.03829154e-02],\n",
       "       [ 7.39052221e-02],\n",
       "       [ 1.73497170e-01],\n",
       "       [ 2.85814386e-02],\n",
       "       [ 2.59848125e-03],\n",
       "       [-4.36478294e-02],\n",
       "       [-6.41401187e-02],\n",
       "       [ 8.87324885e-02],\n",
       "       [-6.32999167e-02],\n",
       "       [ 4.22153063e-02],\n",
       "       [-2.07913145e-02],\n",
       "       [ 4.12934609e-02],\n",
       "       [ 5.57502694e-02],\n",
       "       [ 1.79923587e-02],\n",
       "       [-1.52912200e-03],\n",
       "       [ 1.37562528e-01],\n",
       "       [ 1.34227583e-02],\n",
       "       [-4.92747836e-02],\n",
       "       [-5.97057976e-02],\n",
       "       [-6.35722056e-02],\n",
       "       [-3.00778123e-03],\n",
       "       [ 9.11162570e-02],\n",
       "       [ 1.97545197e-02],\n",
       "       [-7.36133456e-02],\n",
       "       [-5.44911288e-02],\n",
       "       [ 4.10443498e-03],\n",
       "       [ 9.54943746e-02],\n",
       "       [-2.27171909e-02],\n",
       "       [ 4.31678891e-02],\n",
       "       [-6.10786751e-02],\n",
       "       [-8.77940580e-02],\n",
       "       [-2.74237134e-02],\n",
       "       [ 1.18459433e-01],\n",
       "       [ 9.46986396e-03],\n",
       "       [-4.58205193e-02],\n",
       "       [ 4.36953977e-02],\n",
       "       [ 1.93614345e-02],\n",
       "       [ 2.31717899e-02],\n",
       "       [ 1.02115743e-01],\n",
       "       [-6.73116697e-03],\n",
       "       [-6.75938725e-02],\n",
       "       [-5.87193109e-03],\n",
       "       [-4.18478064e-02],\n",
       "       [-5.59131764e-02],\n",
       "       [-1.73375517e-01],\n",
       "       [-8.82596299e-02],\n",
       "       [ 2.34529153e-02],\n",
       "       [ 8.97737294e-02],\n",
       "       [-7.96845704e-02],\n",
       "       [-6.21982440e-02],\n",
       "       [-4.04773392e-02],\n",
       "       [ 6.34775758e-02],\n",
       "       [ 4.76661511e-02],\n",
       "       [ 1.52587639e-02],\n",
       "       [ 6.74076262e-04],\n",
       "       [-9.47984084e-02],\n",
       "       [ 9.81936157e-02],\n",
       "       [ 7.74014145e-02],\n",
       "       [ 6.09839894e-02],\n",
       "       [ 1.33322597e-01],\n",
       "       [-3.70761976e-02],\n",
       "       [-5.40808029e-02],\n",
       "       [-4.04584929e-02],\n",
       "       [-9.25689489e-02],\n",
       "       [-5.99680818e-04],\n",
       "       [ 3.87853011e-02],\n",
       "       [ 1.32206231e-01],\n",
       "       [-7.49068409e-02],\n",
       "       [ 7.89417699e-02],\n",
       "       [-2.86544133e-02],\n",
       "       [-4.32978272e-02],\n",
       "       [-4.21176292e-02],\n",
       "       [-9.52571929e-02],\n",
       "       [ 9.70939174e-02],\n",
       "       [-1.45832833e-03],\n",
       "       [ 5.34732044e-02],\n",
       "       [ 1.34951517e-01],\n",
       "       [-4.59658653e-02],\n",
       "       [ 1.17378056e-01],\n",
       "       [ 7.84794912e-02],\n",
       "       [ 4.69632819e-02],\n",
       "       [ 1.18152183e-02],\n",
       "       [-9.62645710e-02],\n",
       "       [-1.33677527e-01],\n",
       "       [ 2.47326791e-02],\n",
       "       [-8.31239745e-02],\n",
       "       [-7.18870163e-02],\n",
       "       [ 3.38356458e-02],\n",
       "       [-8.62503052e-02],\n",
       "       [-5.17532881e-03],\n",
       "       [-1.06728420e-01],\n",
       "       [ 2.38603801e-02],\n",
       "       [ 2.49583293e-02],\n",
       "       [ 2.31070742e-02],\n",
       "       [ 1.17321247e-02],\n",
       "       [-1.29867820e-02],\n",
       "       [-2.45333910e-02],\n",
       "       [ 5.13439775e-02],\n",
       "       [ 1.00866236e-01],\n",
       "       [ 3.94855477e-02],\n",
       "       [ 8.25901553e-02],\n",
       "       [-3.05786394e-02],\n",
       "       [ 1.05024152e-01],\n",
       "       [ 1.34921342e-01],\n",
       "       [ 8.40134546e-02],\n",
       "       [ 6.33568838e-02],\n",
       "       [ 9.69527885e-02],\n",
       "       [ 2.74863793e-03],\n",
       "       [ 8.28950107e-02],\n",
       "       [ 1.14905275e-02],\n",
       "       [-1.07209139e-01],\n",
       "       [ 2.79563405e-02],\n",
       "       [ 1.93416420e-02],\n",
       "       [-1.51327088e-01],\n",
       "       [ 2.86338851e-02],\n",
       "       [-1.00944877e-01],\n",
       "       [ 5.02288714e-03],\n",
       "       [-1.99262332e-02],\n",
       "       [-6.22378923e-02],\n",
       "       [-7.03046992e-02],\n",
       "       [-1.36231147e-02],\n",
       "       [ 1.66084375e-02],\n",
       "       [ 3.31466133e-03],\n",
       "       [-5.47193661e-02],\n",
       "       [-4.28583287e-02],\n",
       "       [-2.27479879e-02],\n",
       "       [-1.31973810e-02],\n",
       "       [-1.19562976e-01],\n",
       "       [ 1.09015182e-01],\n",
       "       [-1.82447210e-02],\n",
       "       [ 8.22934955e-02],\n",
       "       [-2.58021858e-02],\n",
       "       [ 7.63780475e-02],\n",
       "       [-7.30002485e-03],\n",
       "       [ 3.40378135e-02],\n",
       "       [-6.67932704e-02],\n",
       "       [ 2.56476086e-03],\n",
       "       [ 5.13197817e-02],\n",
       "       [-8.29192251e-02],\n",
       "       [-8.83688801e-04],\n",
       "       [ 1.13188855e-01],\n",
       "       [ 5.26422411e-02],\n",
       "       [ 4.54869121e-02],\n",
       "       [ 2.18371283e-02],\n",
       "       [ 2.57757138e-02],\n",
       "       [-5.71198482e-03],\n",
       "       [-1.30771706e-02],\n",
       "       [-1.15679719e-01],\n",
       "       [-1.75527111e-02],\n",
       "       [ 2.95880577e-03],\n",
       "       [ 3.51969562e-02],\n",
       "       [ 1.21064574e-01],\n",
       "       [-3.28130126e-02],\n",
       "       [-5.02872057e-02],\n",
       "       [-3.90499756e-02],\n",
       "       [-2.47040763e-03],\n",
       "       [ 4.62245047e-02],\n",
       "       [-3.04265954e-02],\n",
       "       [ 1.13093935e-01],\n",
       "       [-9.55462456e-02],\n",
       "       [ 1.27481690e-04],\n",
       "       [-3.87526602e-02],\n",
       "       [ 1.08625898e-02],\n",
       "       [ 6.68663085e-02],\n",
       "       [ 9.79842767e-02],\n",
       "       [ 4.43780869e-02],\n",
       "       [ 3.06481193e-03],\n",
       "       [ 3.82148707e-03],\n",
       "       [-6.74419012e-03],\n",
       "       [-7.11657852e-02],\n",
       "       [ 5.72343953e-02],\n",
       "       [-1.04343630e-02],\n",
       "       [-9.59049836e-02],\n",
       "       [ 8.52001309e-02],\n",
       "       [-2.28612591e-03],\n",
       "       [-4.91093751e-03],\n",
       "       [-4.47672121e-02],\n",
       "       [ 2.76337247e-02],\n",
       "       [ 2.04221765e-03],\n",
       "       [-1.49840219e-02],\n",
       "       [ 2.35489756e-02],\n",
       "       [-3.76440547e-02],\n",
       "       [ 7.70060867e-02],\n",
       "       [-2.76582111e-02]], dtype=float32)"
      ]
     },
     "execution_count": 266,
     "metadata": {},
     "output_type": "execute_result"
    }
   ],
   "source": [
    "e[0]"
   ]
  },
  {
   "cell_type": "code",
   "execution_count": 189,
   "metadata": {},
   "outputs": [
    {
     "data": {
      "text/plain": [
       "[<matplotlib.lines.Line2D at 0x216236c41d0>]"
      ]
     },
     "execution_count": 189,
     "metadata": {},
     "output_type": "execute_result"
    },
    {
     "data": {
      "image/png": "[encoded data removed]",
      "text/plain": [
       "<Figure size 640x480 with 1 Axes>"
      ]
     },
     "metadata": {},
     "output_type": "display_data"
    }
   ],
   "source": [
    "\n",
    "plt.plot([-3,3],[-3,3])"
   ]
  },
  {
   "cell_type": "code",
   "execution_count": 26,
   "metadata": {},
   "outputs": [
    {
     "ename": "ValueError",
     "evalue": "Found input variables with inconsistent numbers of samples: [5, 1000]",
     "output_type": "error",
     "traceback": [
      "\u001b[1;31m---------------------------------------------------------------------------\u001b[0m",
      "\u001b[1;31mValueError\u001b[0m                                Traceback (most recent call last)",
      "Cell \u001b[1;32mIn[26], line 30\u001b[0m\n\u001b[0;32m     27\u001b[0m y \u001b[38;5;241m=\u001b[39m np\u001b[38;5;241m.\u001b[39mrandom\u001b[38;5;241m.\u001b[39mrand(num_samples, \u001b[38;5;241m1\u001b[39m)\n\u001b[0;32m     29\u001b[0m \u001b[38;5;66;03m# Train-test split\u001b[39;00m\n\u001b[1;32m---> 30\u001b[0m train_data, val_data, train_y, val_y \u001b[38;5;241m=\u001b[39m train_test_split(data, y, test_size\u001b[38;5;241m=\u001b[39m\u001b[38;5;241m0.2\u001b[39m, random_state\u001b[38;5;241m=\u001b[39m\u001b[38;5;241m42\u001b[39m)\n\u001b[0;32m     32\u001b[0m \u001b[38;5;66;03m# Prepare data for MainEffectBlock\u001b[39;00m\n\u001b[0;32m     33\u001b[0m \u001b[38;5;28;01mdef\u001b[39;00m \u001b[38;5;21mprepare_data\u001b[39m(data_dict):\n",
      "File \u001b[1;32mc:\\Users\\Giwa\\.conda\\envs\\env\\Lib\\site-packages\\sklearn\\utils\\_param_validation.py:213\u001b[0m, in \u001b[0;36mvalidate_params.<locals>.decorator.<locals>.wrapper\u001b[1;34m(*args, **kwargs)\u001b[0m\n\u001b[0;32m    207\u001b[0m \u001b[38;5;28;01mtry\u001b[39;00m:\n\u001b[0;32m    208\u001b[0m     \u001b[38;5;28;01mwith\u001b[39;00m config_context(\n\u001b[0;32m    209\u001b[0m         skip_parameter_validation\u001b[38;5;241m=\u001b[39m(\n\u001b[0;32m    210\u001b[0m             prefer_skip_nested_validation \u001b[38;5;129;01mor\u001b[39;00m global_skip_validation\n\u001b[0;32m    211\u001b[0m         )\n\u001b[0;32m    212\u001b[0m     ):\n\u001b[1;32m--> 213\u001b[0m         \u001b[38;5;28;01mreturn\u001b[39;00m func(\u001b[38;5;241m*\u001b[39margs, \u001b[38;5;241m*\u001b[39m\u001b[38;5;241m*\u001b[39mkwargs)\n\u001b[0;32m    214\u001b[0m \u001b[38;5;28;01mexcept\u001b[39;00m InvalidParameterError \u001b[38;5;28;01mas\u001b[39;00m e:\n\u001b[0;32m    215\u001b[0m     \u001b[38;5;66;03m# When the function is just a wrapper around an estimator, we allow\u001b[39;00m\n\u001b[0;32m    216\u001b[0m     \u001b[38;5;66;03m# the function to delegate validation to the estimator, but we replace\u001b[39;00m\n\u001b[0;32m    217\u001b[0m     \u001b[38;5;66;03m# the name of the estimator by the name of the function in the error\u001b[39;00m\n\u001b[0;32m    218\u001b[0m     \u001b[38;5;66;03m# message to avoid confusion.\u001b[39;00m\n\u001b[0;32m    219\u001b[0m     msg \u001b[38;5;241m=\u001b[39m re\u001b[38;5;241m.\u001b[39msub(\n\u001b[0;32m    220\u001b[0m         \u001b[38;5;124mr\u001b[39m\u001b[38;5;124m\"\u001b[39m\u001b[38;5;124mparameter of \u001b[39m\u001b[38;5;124m\\\u001b[39m\u001b[38;5;124mw+ must be\u001b[39m\u001b[38;5;124m\"\u001b[39m,\n\u001b[0;32m    221\u001b[0m         \u001b[38;5;124mf\u001b[39m\u001b[38;5;124m\"\u001b[39m\u001b[38;5;124mparameter of \u001b[39m\u001b[38;5;132;01m{\u001b[39;00mfunc\u001b[38;5;241m.\u001b[39m\u001b[38;5;18m__qualname__\u001b[39m\u001b[38;5;132;01m}\u001b[39;00m\u001b[38;5;124m must be\u001b[39m\u001b[38;5;124m\"\u001b[39m,\n\u001b[0;32m    222\u001b[0m         \u001b[38;5;28mstr\u001b[39m(e),\n\u001b[0;32m    223\u001b[0m     )\n",
      "File \u001b[1;32mc:\\Users\\Giwa\\.conda\\envs\\env\\Lib\\site-packages\\sklearn\\model_selection\\_split.py:2657\u001b[0m, in \u001b[0;36mtrain_test_split\u001b[1;34m(test_size, train_size, random_state, shuffle, stratify, *arrays)\u001b[0m\n\u001b[0;32m   2654\u001b[0m \u001b[38;5;28;01mif\u001b[39;00m n_arrays \u001b[38;5;241m==\u001b[39m \u001b[38;5;241m0\u001b[39m:\n\u001b[0;32m   2655\u001b[0m     \u001b[38;5;28;01mraise\u001b[39;00m \u001b[38;5;167;01mValueError\u001b[39;00m(\u001b[38;5;124m\"\u001b[39m\u001b[38;5;124mAt least one array required as input\u001b[39m\u001b[38;5;124m\"\u001b[39m)\n\u001b[1;32m-> 2657\u001b[0m arrays \u001b[38;5;241m=\u001b[39m indexable(\u001b[38;5;241m*\u001b[39marrays)\n\u001b[0;32m   2659\u001b[0m n_samples \u001b[38;5;241m=\u001b[39m _num_samples(arrays[\u001b[38;5;241m0\u001b[39m])\n\u001b[0;32m   2660\u001b[0m n_train, n_test \u001b[38;5;241m=\u001b[39m _validate_shuffle_split(\n\u001b[0;32m   2661\u001b[0m     n_samples, test_size, train_size, default_test_size\u001b[38;5;241m=\u001b[39m\u001b[38;5;241m0.25\u001b[39m\n\u001b[0;32m   2662\u001b[0m )\n",
      "File \u001b[1;32mc:\\Users\\Giwa\\.conda\\envs\\env\\Lib\\site-packages\\sklearn\\utils\\validation.py:514\u001b[0m, in \u001b[0;36mindexable\u001b[1;34m(*iterables)\u001b[0m\n\u001b[0;32m    484\u001b[0m \u001b[38;5;250m\u001b[39m\u001b[38;5;124;03m\"\"\"Make arrays indexable for cross-validation.\u001b[39;00m\n\u001b[0;32m    485\u001b[0m \n\u001b[0;32m    486\u001b[0m \u001b[38;5;124;03mChecks consistent length, passes through None, and ensures that everything\u001b[39;00m\n\u001b[1;32m   (...)\u001b[0m\n\u001b[0;32m    510\u001b[0m \u001b[38;5;124;03m[[1, 2, 3], array([2, 3, 4]), None, <3x1 sparse matrix ...>]\u001b[39;00m\n\u001b[0;32m    511\u001b[0m \u001b[38;5;124;03m\"\"\"\u001b[39;00m\n\u001b[0;32m    513\u001b[0m result \u001b[38;5;241m=\u001b[39m [_make_indexable(X) \u001b[38;5;28;01mfor\u001b[39;00m X \u001b[38;5;129;01min\u001b[39;00m iterables]\n\u001b[1;32m--> 514\u001b[0m check_consistent_length(\u001b[38;5;241m*\u001b[39mresult)\n\u001b[0;32m    515\u001b[0m \u001b[38;5;28;01mreturn\u001b[39;00m result\n",
      "File \u001b[1;32mc:\\Users\\Giwa\\.conda\\envs\\env\\Lib\\site-packages\\sklearn\\utils\\validation.py:457\u001b[0m, in \u001b[0;36mcheck_consistent_length\u001b[1;34m(*arrays)\u001b[0m\n\u001b[0;32m    455\u001b[0m uniques \u001b[38;5;241m=\u001b[39m np\u001b[38;5;241m.\u001b[39munique(lengths)\n\u001b[0;32m    456\u001b[0m \u001b[38;5;28;01mif\u001b[39;00m \u001b[38;5;28mlen\u001b[39m(uniques) \u001b[38;5;241m>\u001b[39m \u001b[38;5;241m1\u001b[39m:\n\u001b[1;32m--> 457\u001b[0m     \u001b[38;5;28;01mraise\u001b[39;00m \u001b[38;5;167;01mValueError\u001b[39;00m(\n\u001b[0;32m    458\u001b[0m         \u001b[38;5;124m\"\u001b[39m\u001b[38;5;124mFound input variables with inconsistent numbers of samples: \u001b[39m\u001b[38;5;132;01m%r\u001b[39;00m\u001b[38;5;124m\"\u001b[39m\n\u001b[0;32m    459\u001b[0m         \u001b[38;5;241m%\u001b[39m [\u001b[38;5;28mint\u001b[39m(l) \u001b[38;5;28;01mfor\u001b[39;00m l \u001b[38;5;129;01min\u001b[39;00m lengths]\n\u001b[0;32m    460\u001b[0m     )\n",
      "\u001b[1;31mValueError\u001b[0m: Found input variables with inconsistent numbers of samples: [5, 1000]"
     ]
    }
   ],
   "source": [
    "# Example Code to Train MainEffectBlock with Validation\n",
    "\n",
    "# Required Imports\n",
    "from sklearn.model_selection import train_test_split\n",
    "import tensorflow as tf\n",
    "import numpy as np\n",
    "\n",
    "# Define the meta_data for MainEffectBlock (example)\n",
    "num_samples = 1000\n",
    "num_features = 5\n",
    "\n",
    "# Generate example data\n",
    "data = {\n",
    "    f\"X{i}\": np.random.rand(num_samples, 1) for i in range(num_features)\n",
    "}\n",
    "meta_data = {\n",
    "    f\"X{i}\": {\n",
    "        \"input_dim\": (1,),\n",
    "        \"arch_layers\": [{\"Net\": \"Dense\", \"Val\": 128}, {\"Net\": \"Drop\", \"Val\": 0.3}],\n",
    "        \"name\": f\"X{i}\",\n",
    "        \"Time_Series\": False,\n",
    "    }\n",
    "    for i in range(num_features)\n",
    "}\n",
    "\n",
    "# Generate target variable\n",
    "y = np.random.rand(num_samples, 1)\n",
    "\n",
    "# Train-test split\n",
    "train_data, val_data, train_y, val_y = train_test_split(data, y, test_size=0.2, random_state=42)\n",
    "\n",
    "# Prepare data for MainEffectBlock\n",
    "def prepare_data(data_dict):\n",
    "    return {key: tf.convert_to_tensor(data_dict[key], dtype=tf.float32) for key in data_dict}\n",
    "\n",
    "train_data = prepare_data(train_data)\n",
    "val_data = prepare_data(val_data)\n",
    "\n",
    "# Initialize MainEffectBlock\n",
    "main_effect_block = MainEffectBlock(meta_data)\n",
    "\n",
    "# Define optimizer and loss function\n",
    "optimizer = tf.keras.optimizers.Adam(learning_rate=0.001)\n",
    "loss_fn = tf.keras.losses.MeanSquaredError()\n",
    "\n",
    "# Training loop\n",
    "epochs = 50\n",
    "batch_size = 32\n",
    "for epoch in range(epochs):\n",
    "    # Shuffle the training data\n",
    "    indices = np.random.permutation(len(train_y))\n",
    "    train_data_shuffled = {key: value[indices] for key, value in train_data.items()}\n",
    "    train_y_shuffled = train_y[indices]\n",
    "\n",
    "    # Train in batches\n",
    "    for start in range(0, len(train_y), batch_size):\n",
    "        end = start + batch_size\n",
    "        batch_data = {key: value[start:end] for key, value in train_data_shuffled.items()}\n",
    "        batch_y = train_y_shuffled[start:end]\n",
    "\n",
    "        with tf.GradientTape() as tape:\n",
    "            predictions = main_effect_block(batch_data)\n",
    "            loss = loss_fn(batch_y, predictions)\n",
    "\n",
    "        gradients = tape.gradient(loss, main_effect_block.trainable_variables)\n",
    "        optimizer.apply_gradients(zip(gradients, main_effect_block.trainable_variables))\n",
    "\n",
    "    # Validation\n",
    "    val_predictions = main_effect_block(val_data)\n",
    "    val_loss = loss_fn(val_y, val_predictions)\n",
    "\n",
    "    print(f\"Epoch {epoch+1}/{epochs}, Loss: {loss.numpy():.4f}, Val Loss: {val_loss.numpy():.4f}\")\n",
    "\n",
    "# Example usage: Training ends here\n"
   ]
  }
 ],
 "metadata": {
  "kernelspec": {
   "display_name": "env",
   "language": "python",
   "name": "python3"
  },
  "language_info": {
   "codemirror_mode": {
    "name": "ipython",
    "version": 3
   },
   "file_extension": ".py",
   "mimetype": "text/x-python",
   "name": "python",
   "nbconvert_exporter": "python",
   "pygments_lexer": "ipython3",
   "version": "3.12.3"
  }
 },
 "nbformat": 4,
 "nbformat_minor": 2
}
